{
  "nbformat": 4,
  "nbformat_minor": 0,
  "metadata": {
    "colab": {
      "name": "HW2_Prateek.ipynb",
      "provenance": [],
      "collapsed_sections": []
    },
    "kernelspec": {
      "display_name": "Python 3",
      "language": "python",
      "name": "python3"
    },
    "language_info": {
      "codemirror_mode": {
        "name": "ipython",
        "version": 3
      },
      "file_extension": ".py",
      "mimetype": "text/x-python",
      "name": "python",
      "nbconvert_exporter": "python",
      "pygments_lexer": "ipython3",
      "version": "3.7.7"
    }
  },
  "cells": [
    {
      "cell_type": "markdown",
      "metadata": {
        "id": "t9v1vX4-OGIT"
      },
      "source": [
        "# Problem set 2 (45 + 50 + 33 + 15 = 143 pts)"
      ]
    },
    {
      "cell_type": "markdown",
      "metadata": {
        "id": "FOMNJ4TcOGIV"
      },
      "source": [
        "## Problem 1 (LU decomposition) 45 pts\n"
      ]
    },
    {
      "cell_type": "markdown",
      "metadata": {
        "id": "pYHDl6ppOGIV"
      },
      "source": [
        "### 1. LU  for band matrices and Cholesky decomposition (13 pts)\n",
        "\n",
        "The complexity to find an LU decomposition of a dense $n\\times n$ matrix is $\\mathcal{O}(n^3)$.\n",
        "Significant reduction in complexity can be achieved if the matrix has a certain structure, e.g. it is sparse. \n",
        "In the following task we consider an important example of $LU$ for a special type of matrices –– band matrices with top left entry equal to 1 and the bandwidth $m$ equal to 3 or 5 which called tridiagonal and pentadiagonal respectively. The bands may be ```[1, 2, 1]``` and ```[1, 1, 2, 1, 1]``` respectively\n",
        "\n",
        "- (4 pts) Write a function ```band_lu(diag_broadcast, n)``` which computes LU decomposition for tridiagonal or pentadiagonal matrix with top left entry equal to 1 with given diagonal bands. \n",
        "For example, input parametres ```(diag_broadcast = [1,2,1], n = 4)``` mean that we need to find LU decomposition for the triangular matrix of the form:\n",
        "\n",
        "$$A = \\begin{pmatrix}\n",
        "1 & 1 & 0 & 0\\\\\n",
        "1 & 2 & 1 & 0 \\\\\n",
        "0 & 1 & 2 & 1 \\\\\n",
        "0 & 0 & 1 & 2 \\\\\n",
        "\\end{pmatrix}.$$\n",
        "\n",
        "Provide the extensive testing of the implemented function that will works correctly for large $n$,  e.g. $n=100$.\n",
        "As an output it is considered to make ```L``` and ```U``` - 2D arrays representing diagonals in factors $L$ (```L[0]``` keeps first lower diagonal, ```L[1]``` keeps second lower, ...), and $U$ (```U[:,0]``` keeps main diagonal, ```U[:,1]``` keeps first upper, ...).\n",
        "\n",
        "- (2 pts) Compare execution time of the band LU decomposition using standard function from ```scipy```, i.e. which takes the whole matrix and does not know about its special structure, and band decomposition of yours implementation. Comment on the results.\n",
        "\n",
        "- (7 pts) Write a function ```cholesky(n)``` for computing Cholesky decomposition. It should take the the single argument - the matrix that will be factorized and return the single output - lower-triangular factor $L$. Think about the efficiency of your implementation and if necessary update it to achieve the best performance (eliminate Python loops, where it is possible and so on). Explicitly describe the difference with LU decomposition that reduces the complexity from $2n^3/3$ for LU to $n^3/3$ for Cholesky. \n",
        "Test the implemented function on the Pascal matrix of given size $n$ for $n = 5, 10, 50$. \n",
        "Pascal matrix is square matrix of the following form (here for $n=4$)\n",
        "$$P = \\begin{pmatrix}\n",
        "1 & 1 & 1 & 1\\\\\n",
        "1 & 2 & 3 & 4 \\\\\n",
        "1 & 3 & 6 & 10 \\\\\n",
        "1 & 4 & 10 & 20 \\\\\n",
        "\\end{pmatrix}.$$\n",
        "\n",
        "    [Here](https://en.wikipedia.org/wiki/Pascal_matrix) you can find more details about such matrices and analytical form for factor $L$ from Cholesky decomposition. Compare the result of your implementation with analytical expression in terms of some matrix norm of difference.  "
      ]
    },
    {
      "cell_type": "code",
      "metadata": {
        "id": "eXzoTaxuKF2h"
      },
      "source": [
        "# INPUT : diag_broadcast - list of diagonals value to broadcast,length equal to 3 or 5; n - integer, band matrix shape.\n",
        "# OUTPUT : L - 2D np.ndarray, L.shape[0] depends on bandwidth, L.shape[1] = n-1, do not store main diagonal, where all ones;                  add zeros to the right side of rows to handle with changing length of diagonals.\n",
        "#          U - 2D np.ndarray, U.shape[0] = n, U.shape[1] depends on bandwidth;\n",
        "#              add zeros to the bottom of columns to handle with changing length of diagonals.\n",
        "def band_lu(diag_broadcast, n):\n",
        "    if len(diag_broadcast) == 3:\n",
        "        a, b, c = tuple([float(x) for x in diag_broadcast])\n",
        "\n",
        "        alpha, beta = np.zeros(n-1), np.repeat(1., n)\n",
        "        \n",
        "        for i in range(1, n):\n",
        "            alpha[i-1] = a / beta[i-1]\n",
        "            beta[i] = b - alpha[i-1] * c\n",
        "\n",
        "        L, U = alpha, [beta, np.repeat(c, n-1)]\n",
        "        \n",
        "    elif len(diag_broadcast) == 5:\n",
        "        \n",
        "        a, b, c, d, e = tuple([float(x) for x in diag_broadcast])\n",
        "\n",
        "        mu = np.repeat(1., n)\n",
        "        beta = np.repeat(a / mu[0], n-2)\n",
        "        alpha = np.repeat(b / mu[0], n-1) \n",
        "        nu = np.repeat(d, n-1)\n",
        "\n",
        "        mu[1] = c - alpha[0] * nu[0]\n",
        "\n",
        "        for i in range(1, n-1):\n",
        "            if i < n-2:\n",
        "                beta[i] = a / mu[i]\n",
        "            alpha[i] = (b - beta[i-1] * nu[i-1]) / mu[i]\n",
        "            nu[i] = d - alpha[i-1] * e\n",
        "            mu[i+1] = c - beta[i-1] * e - alpha[i] * nu[i]\n",
        "            \n",
        "        L, U = [beta, alpha], [mu, nu, np.repeat(e, n-2)]\n",
        "        \n",
        "    else:\n",
        "        raise NotImplementedError\n",
        "\n",
        "    return L, U"
      ],
      "execution_count": 12,
      "outputs": []
    },
    {
      "cell_type": "markdown",
      "metadata": {
        "id": "vVZQddc2FTNY"
      },
      "source": [
        "Consistency test using np.allclose for n = 3"
      ]
    },
    {
      "cell_type": "code",
      "metadata": {
        "id": "VMTUa5cdEw-P"
      },
      "source": [
        "\n",
        "N = 3"
      ],
      "execution_count": 13,
      "outputs": []
    },
    {
      "cell_type": "code",
      "metadata": {
        "id": "jqix7UUjDka6"
      },
      "source": [
        "a = [1, 2, 1]\n",
        "\n",
        "l, u = band_lu(a, n=N)\n",
        "\n",
        "d_list = [l, u[0]]\n",
        "\n",
        "L = diags(d_list, [-1, 0], shape=(N, N)).toarray()\n",
        "U = diags(u, [0, 1], shape=(N, N)).toarray()\n",
        "\n",
        "A = diags(a, [-1, 0, 1], shape=(N, N)).toarray()\n",
        "A[0, 0] = 1.\n",
        "\n",
        "assert np.allclose(L @ U, A)"
      ],
      "execution_count": 14,
      "outputs": []
    },
    {
      "cell_type": "markdown",
      "metadata": {
        "id": "hy9HammnFZYd"
      },
      "source": [
        "Consistency test using np.allclose for n = 5"
      ]
    },
    {
      "cell_type": "code",
      "metadata": {
        "id": "gFvolp7gFG_6"
      },
      "source": [
        "N = 5"
      ],
      "execution_count": 15,
      "outputs": []
    },
    {
      "cell_type": "code",
      "metadata": {
        "id": "u7YHzGURFCRz"
      },
      "source": [
        "a = [1, 2, 1]\n",
        "\n",
        "l, u = band_lu(a, n=N)\n",
        "\n",
        "d_list = [l, u[0]]\n",
        "\n",
        "L = diags(d_list, [-1, 0], shape=(N, N)).toarray()\n",
        "U = diags(u, [0, 1], shape=(N, N)).toarray()\n",
        "\n",
        "A = diags(a, [-1, 0, 1], shape=(N, N)).toarray()\n",
        "A[0, 0] = 1.\n",
        "\n",
        "assert np.allclose(L @ U, A)"
      ],
      "execution_count": 16,
      "outputs": []
    },
    {
      "cell_type": "markdown",
      "metadata": {
        "id": "7EGpjBtGMaZ9"
      },
      "source": [
        "Time Comparison with Out of the Fox implementation"
      ]
    },
    {
      "cell_type": "code",
      "metadata": {
        "id": "WJlbQQZnIXL3",
        "colab": {
          "base_uri": "https://localhost:8080/"
        },
        "outputId": "7fb4a123-0daa-433e-af21-0a154e7e990d"
      },
      "source": [
        "from scipy.linalg import lu\n",
        "from timeit import default_timer\n",
        "import numpy as np\n",
        "\n",
        "#mat = np.array([[-2, 1, 1, 0], [4, -2, 1, 0], [0, 4, -2, 1], [0, 0, 4, -2]])\n",
        "\n",
        "mat = np.array([[1, 2, 1], [2, 3, 4], [1, 2, 2]])\n",
        "#diag = [2, 1, 2]\n",
        "\n",
        "start_time = default_timer() \n",
        "p, l, u = lu(mat)\n",
        "scipy_time =  default_timer() - start_time\n",
        "print(scipy_time)\n",
        "print(p, l, u, l @ u, sep='\\n')\n"
      ],
      "execution_count": 19,
      "outputs": [
        {
          "output_type": "stream",
          "name": "stdout",
          "text": [
            "0.00023942400002852082\n",
            "[[0. 1. 0.]\n",
            " [1. 0. 0.]\n",
            " [0. 0. 1.]]\n",
            "[[1.  0.  0. ]\n",
            " [0.5 1.  0. ]\n",
            " [0.5 1.  1. ]]\n",
            "[[ 2.   3.   4. ]\n",
            " [ 0.   0.5 -1. ]\n",
            " [ 0.   0.   1. ]]\n",
            "[[2. 3. 4.]\n",
            " [1. 2. 1.]\n",
            " [1. 2. 2.]]\n"
          ]
        }
      ]
    },
    {
      "cell_type": "code",
      "metadata": {
        "id": "wojnJAwmLF0R"
      },
      "source": [
        "n_ = [i for i in range(100, 1000)]"
      ],
      "execution_count": 22,
      "outputs": []
    },
    {
      "cell_type": "code",
      "metadata": {
        "colab": {
          "base_uri": "https://localhost:8080/",
          "height": 334
        },
        "id": "rqoIr0i4LAcT",
        "outputId": "f2433876-a110-45c6-c343-6ec0890f3f96"
      },
      "source": [
        "import matplotlib.pyplot as plt\n",
        "\n",
        "\n",
        "a = [1, 8, 1, 4, 1]\n",
        "\n",
        "custom_times = []\n",
        "\n",
        "start = default_timer()\n",
        "for n in n_:\n",
        "    band_lu(a, n=n)\n",
        "    custom_times.append(default_timer() - start)\n",
        "\n",
        "box_times = []\n",
        "\n",
        "start = default_timer()\n",
        "for n in n_:\n",
        "    A = diags(a, [-2, -1, 0, 1, 2], shape=(n, n)).toarray()\n",
        "    A[0, 0] = 1.\n",
        "\n",
        "    lu(A)\n",
        "    box_times.append(default_timer() - start)\n",
        "\n",
        "plt.figure(figsize=(5, 5))\n",
        "\n",
        "plt.plot(n_, custom_times,color= 'blue', label='band_lu')\n",
        "\n",
        "plt.plot(n_, box_times, color='red', label='scipy_lu')\n",
        "\n",
        "\n",
        "plt.xlabel('size of matrix')\n",
        "plt.ylabel('secs')\n",
        "plt.legend()\n",
        "plt.show()"
      ],
      "execution_count": 30,
      "outputs": [
        {
          "output_type": "display_data",
          "data": {
            "image/png": "[encoded data removed]",
            "text/plain": [
              "<Figure size 360x360 with 1 Axes>"
            ]
          },
          "metadata": {
            "needs_background": "light"
          }
        }
      ]
    },
    {
      "cell_type": "markdown",
      "metadata": {
        "id": "R7Xca_DeMfNJ"
      },
      "source": [
        "Here we can clearly see out function ourperforming scipy lu because of the special structure of out matrix "
      ]
    },
    {
      "cell_type": "code",
      "metadata": {
        "id": "HWmu35vSTQcm",
        "colab": {
          "base_uri": "https://localhost:8080/"
        },
        "outputId": "83915663-a851-4f57-9d6d-083b03bc3bcf"
      },
      "source": [
        "def pascalmatrix(n):\n",
        "    C = [[0 for x in range(2 * n + 1)]\n",
        "            for y in range(2 * n + 1)]\n",
        "             \n",
        "    # Calculate value of\n",
        "    # Binomial Coefficient\n",
        "    # in ottom up manner\n",
        "    for i in range(2 * n + 1):\n",
        "        for j in range(min(i, 2 * n) + 1):\n",
        "             \n",
        "            # Base Cases\n",
        "            if (j == 0 or j == i):\n",
        "                C[i][j] = 1;\n",
        "                 \n",
        "            # Calculate value\n",
        "            # using previously\n",
        "            # stored values\n",
        "            else:\n",
        "                C[i][j] = (C[i - 1][j - 1] +\n",
        "                           C[i - 1][j]);\n",
        "     \n",
        "    # Printing the\n",
        "    # pascal matrix\n",
        "    D = np.zeros((n,n))\n",
        "    for i in range(n):\n",
        "        for j in range(n):\n",
        "            D[i][j] = C[i+j][i]\n",
        "\n",
        "            \n",
        "    print(D);\n",
        "\n",
        "    return D\n",
        "     \n",
        "# Driver Code;\n",
        "n = 50\n",
        "pascalmatrix(n);"
      ],
      "execution_count": 25,
      "outputs": [
        {
          "output_type": "stream",
          "name": "stdout",
          "text": [
            "[[1.00000000e+00 1.00000000e+00 1.00000000e+00 ... 1.00000000e+00\n",
            "  1.00000000e+00 1.00000000e+00]\n",
            " [1.00000000e+00 2.00000000e+00 3.00000000e+00 ... 4.80000000e+01\n",
            "  4.90000000e+01 5.00000000e+01]\n",
            " [1.00000000e+00 3.00000000e+00 6.00000000e+00 ... 1.17600000e+03\n",
            "  1.22500000e+03 1.27500000e+03]\n",
            " ...\n",
            " [1.00000000e+00 4.80000000e+01 1.17600000e+03 ... 1.62570114e+27\n",
            "  3.21753351e+27 6.30373912e+27]\n",
            " [1.00000000e+00 4.90000000e+01 1.22500000e+03 ... 3.21753351e+27\n",
            "  6.43506701e+27 1.27388061e+28]\n",
            " [1.00000000e+00 5.00000000e+01 1.27500000e+03 ... 6.30373912e+27\n",
            "  1.27388061e+28 2.54776123e+28]]\n"
          ]
        }
      ]
    },
    {
      "cell_type": "code",
      "metadata": {
        "id": "vEXGnZ1cC4Ou"
      },
      "source": [
        "from math import sqrt\n",
        "\n",
        "\n",
        "def cholesky_decomposition(M):\n",
        "    \n",
        "    A = np.copy(M)\n",
        "    n = A.shape[0]\n",
        "    R = np.zeros_like(A)\n",
        "\n",
        "    for k in range(n):\n",
        "        R[k, k] = sqrt(A[k, k])\n",
        "        R[k, k + 1:] = A[k, k + 1:] / R[k, k]\n",
        "        for j in range(k + 1, n):\n",
        "            A[j, j:] = A[j, j:] - R[k, j] * R[k, j:]\n",
        "\n",
        "    return R.T "
      ],
      "execution_count": 26,
      "outputs": []
    },
    {
      "cell_type": "code",
      "metadata": {
        "id": "Peg1U6K5C8Wh",
        "colab": {
          "base_uri": "https://localhost:8080/"
        },
        "outputId": "45cfce81-996e-4f43-8bba-469b3c74d140"
      },
      "source": [
        "print(cholesky_decomposition(pascalmatrix(5)))"
      ],
      "execution_count": 27,
      "outputs": [
        {
          "output_type": "stream",
          "name": "stdout",
          "text": [
            "[[ 1.  1.  1.  1.  1.]\n",
            " [ 1.  2.  3.  4.  5.]\n",
            " [ 1.  3.  6. 10. 15.]\n",
            " [ 1.  4. 10. 20. 35.]\n",
            " [ 1.  5. 15. 35. 70.]]\n",
            "[[1. 0. 0. 0. 0.]\n",
            " [1. 1. 0. 0. 0.]\n",
            " [1. 2. 1. 0. 0.]\n",
            " [1. 3. 3. 1. 0.]\n",
            " [1. 4. 6. 4. 1.]]\n"
          ]
        }
      ]
    },
    {
      "cell_type": "code",
      "metadata": {
        "id": "fTm8KVC6LzQw",
        "colab": {
          "base_uri": "https://localhost:8080/"
        },
        "outputId": "5e31474e-d7a5-4b45-afaa-39ab5473999c"
      },
      "source": [
        "print(cholesky_decomposition(pascalmatrix(10)))"
      ],
      "execution_count": 28,
      "outputs": [
        {
          "output_type": "stream",
          "name": "stdout",
          "text": [
            "[[1.000e+00 1.000e+00 1.000e+00 1.000e+00 1.000e+00 1.000e+00 1.000e+00\n",
            "  1.000e+00 1.000e+00 1.000e+00]\n",
            " [1.000e+00 2.000e+00 3.000e+00 4.000e+00 5.000e+00 6.000e+00 7.000e+00\n",
            "  8.000e+00 9.000e+00 1.000e+01]\n",
            " [1.000e+00 3.000e+00 6.000e+00 1.000e+01 1.500e+01 2.100e+01 2.800e+01\n",
            "  3.600e+01 4.500e+01 5.500e+01]\n",
            " [1.000e+00 4.000e+00 1.000e+01 2.000e+01 3.500e+01 5.600e+01 8.400e+01\n",
            "  1.200e+02 1.650e+02 2.200e+02]\n",
            " [1.000e+00 5.000e+00 1.500e+01 3.500e+01 7.000e+01 1.260e+02 2.100e+02\n",
            "  3.300e+02 4.950e+02 7.150e+02]\n",
            " [1.000e+00 6.000e+00 2.100e+01 5.600e+01 1.260e+02 2.520e+02 4.620e+02\n",
            "  7.920e+02 1.287e+03 2.002e+03]\n",
            " [1.000e+00 7.000e+00 2.800e+01 8.400e+01 2.100e+02 4.620e+02 9.240e+02\n",
            "  1.716e+03 3.003e+03 5.005e+03]\n",
            " [1.000e+00 8.000e+00 3.600e+01 1.200e+02 3.300e+02 7.920e+02 1.716e+03\n",
            "  3.432e+03 6.435e+03 1.144e+04]\n",
            " [1.000e+00 9.000e+00 4.500e+01 1.650e+02 4.950e+02 1.287e+03 3.003e+03\n",
            "  6.435e+03 1.287e+04 2.431e+04]\n",
            " [1.000e+00 1.000e+01 5.500e+01 2.200e+02 7.150e+02 2.002e+03 5.005e+03\n",
            "  1.144e+04 2.431e+04 4.862e+04]]\n",
            "[[  1.   0.   0.   0.   0.   0.   0.   0.   0.   0.]\n",
            " [  1.   1.   0.   0.   0.   0.   0.   0.   0.   0.]\n",
            " [  1.   2.   1.   0.   0.   0.   0.   0.   0.   0.]\n",
            " [  1.   3.   3.   1.   0.   0.   0.   0.   0.   0.]\n",
            " [  1.   4.   6.   4.   1.   0.   0.   0.   0.   0.]\n",
            " [  1.   5.  10.  10.   5.   1.   0.   0.   0.   0.]\n",
            " [  1.   6.  15.  20.  15.   6.   1.   0.   0.   0.]\n",
            " [  1.   7.  21.  35.  35.  21.   7.   1.   0.   0.]\n",
            " [  1.   8.  28.  56.  70.  56.  28.   8.   1.   0.]\n",
            " [  1.   9.  36.  84. 126. 126.  84.  36.   9.   1.]]\n"
          ]
        }
      ]
    },
    {
      "cell_type": "code",
      "metadata": {
        "colab": {
          "base_uri": "https://localhost:8080/",
          "height": 512
        },
        "id": "Zo-GmjFEM97w",
        "outputId": "95c43c82-2f69-4bf2-aaa7-0cbaa827c7d0"
      },
      "source": [
        "print(cholesky_decomposition(pascalmatrix(50)))"
      ],
      "execution_count": 29,
      "outputs": [
        {
          "output_type": "stream",
          "name": "stdout",
          "text": [
            "[[1.00000000e+00 1.00000000e+00 1.00000000e+00 ... 1.00000000e+00\n",
            "  1.00000000e+00 1.00000000e+00]\n",
            " [1.00000000e+00 2.00000000e+00 3.00000000e+00 ... 4.80000000e+01\n",
            "  4.90000000e+01 5.00000000e+01]\n",
            " [1.00000000e+00 3.00000000e+00 6.00000000e+00 ... 1.17600000e+03\n",
            "  1.22500000e+03 1.27500000e+03]\n",
            " ...\n",
            " [1.00000000e+00 4.80000000e+01 1.17600000e+03 ... 1.62570114e+27\n",
            "  3.21753351e+27 6.30373912e+27]\n",
            " [1.00000000e+00 4.90000000e+01 1.22500000e+03 ... 3.21753351e+27\n",
            "  6.43506701e+27 1.27388061e+28]\n",
            " [1.00000000e+00 5.00000000e+01 1.27500000e+03 ... 6.30373912e+27\n",
            "  1.27388061e+28 2.54776123e+28]]\n"
          ]
        },
        {
          "output_type": "error",
          "ename": "ValueError",
          "evalue": "ignored",
          "traceback": [
            "\u001b[0;31m---------------------------------------------------------------------------\u001b[0m",
            "\u001b[0;31mValueError\u001b[0m                                Traceback (most recent call last)",
            "\u001b[0;32m<ipython-input-29-641de2a085f3>\u001b[0m in \u001b[0;36m<module>\u001b[0;34m()\u001b[0m\n\u001b[0;32m----> 1\u001b[0;31m \u001b[0mprint\u001b[0m\u001b[0;34m(\u001b[0m\u001b[0mcholesky_decomposition\u001b[0m\u001b[0;34m(\u001b[0m\u001b[0mpascalmatrix\u001b[0m\u001b[0;34m(\u001b[0m\u001b[0;36m50\u001b[0m\u001b[0;34m)\u001b[0m\u001b[0;34m)\u001b[0m\u001b[0;34m)\u001b[0m\u001b[0;34m\u001b[0m\u001b[0;34m\u001b[0m\u001b[0m\n\u001b[0m",
            "\u001b[0;32m<ipython-input-26-06fc07f7700f>\u001b[0m in \u001b[0;36mcholesky_decomposition\u001b[0;34m(M)\u001b[0m\n\u001b[1;32m      9\u001b[0m \u001b[0;34m\u001b[0m\u001b[0m\n\u001b[1;32m     10\u001b[0m     \u001b[0;32mfor\u001b[0m \u001b[0mk\u001b[0m \u001b[0;32min\u001b[0m \u001b[0mrange\u001b[0m\u001b[0;34m(\u001b[0m\u001b[0mn\u001b[0m\u001b[0;34m)\u001b[0m\u001b[0;34m:\u001b[0m\u001b[0;34m\u001b[0m\u001b[0;34m\u001b[0m\u001b[0m\n\u001b[0;32m---> 11\u001b[0;31m         \u001b[0mR\u001b[0m\u001b[0;34m[\u001b[0m\u001b[0mk\u001b[0m\u001b[0;34m,\u001b[0m \u001b[0mk\u001b[0m\u001b[0;34m]\u001b[0m \u001b[0;34m=\u001b[0m \u001b[0msqrt\u001b[0m\u001b[0;34m(\u001b[0m\u001b[0mA\u001b[0m\u001b[0;34m[\u001b[0m\u001b[0mk\u001b[0m\u001b[0;34m,\u001b[0m \u001b[0mk\u001b[0m\u001b[0;34m]\u001b[0m\u001b[0;34m)\u001b[0m\u001b[0;34m\u001b[0m\u001b[0;34m\u001b[0m\u001b[0m\n\u001b[0m\u001b[1;32m     12\u001b[0m         \u001b[0mR\u001b[0m\u001b[0;34m[\u001b[0m\u001b[0mk\u001b[0m\u001b[0;34m,\u001b[0m \u001b[0mk\u001b[0m \u001b[0;34m+\u001b[0m \u001b[0;36m1\u001b[0m\u001b[0;34m:\u001b[0m\u001b[0;34m]\u001b[0m \u001b[0;34m=\u001b[0m \u001b[0mA\u001b[0m\u001b[0;34m[\u001b[0m\u001b[0mk\u001b[0m\u001b[0;34m,\u001b[0m \u001b[0mk\u001b[0m \u001b[0;34m+\u001b[0m \u001b[0;36m1\u001b[0m\u001b[0;34m:\u001b[0m\u001b[0;34m]\u001b[0m \u001b[0;34m/\u001b[0m \u001b[0mR\u001b[0m\u001b[0;34m[\u001b[0m\u001b[0mk\u001b[0m\u001b[0;34m,\u001b[0m \u001b[0mk\u001b[0m\u001b[0;34m]\u001b[0m\u001b[0;34m\u001b[0m\u001b[0;34m\u001b[0m\u001b[0m\n\u001b[1;32m     13\u001b[0m         \u001b[0;32mfor\u001b[0m \u001b[0mj\u001b[0m \u001b[0;32min\u001b[0m \u001b[0mrange\u001b[0m\u001b[0;34m(\u001b[0m\u001b[0mk\u001b[0m \u001b[0;34m+\u001b[0m \u001b[0;36m1\u001b[0m\u001b[0;34m,\u001b[0m \u001b[0mn\u001b[0m\u001b[0;34m)\u001b[0m\u001b[0;34m:\u001b[0m\u001b[0;34m\u001b[0m\u001b[0;34m\u001b[0m\u001b[0m\n",
            "\u001b[0;31mValueError\u001b[0m: math domain error"
          ]
        }
      ]
    },
    {
      "cell_type": "markdown",
      "metadata": {
        "id": "pISkihBuNO0f"
      },
      "source": [
        "\n",
        "Eliminating the first column will require $n$ additions and $n$ multiplications for $n-1$ rows. Therefore, the number of operations for the first column is $2 n(n-1)$. For the second column, we have $n-1$ additions and $n-1$ multiplications, and we do this for $(n-2)$ rows giving us $2(n-1)(n-2)$. Therefore, the total number of operations required for the full decomposition can be written as\n",
        "$$\n",
        "\\sum_{i}^{n} 2(n-i)(n-i+1)\n",
        "$$\n",
        "\n",
        "An easy transformation $(j=n-i+1)$ easily shows that\n",
        "$$\n",
        "\\begin{aligned}\n",
        "\\sum_{i=1}^{n} 2(n-i)(n-i+1) &=2 \\sum_{j=0}^{n-1} j(j+1) \\\\\n",
        "&=2 \\sum_{j=0}^{n-1}\\left(j^{2}+j\\right) \\\\\n",
        "&=2\\left(\\frac{1}{3} n^{3}-\\frac{1}{3} n\\right)\n",
        "\\end{aligned}\n",
        "$$\n",
        "Then, since we are interested only in the asymptotic behaviour, we drop the $\\frac{2}{3} n$ part, and what's left is $\\frac{2}{3} n^{3}$.\n",
        "\n",
        "\n",
        "To analyze complexity for Cholesky since we are only interested in lower triangular matrix, only lower triangular part need to be updated which requires approximately $\\frac{n}{2}$ flops.\n",
        "\n",
        "$\\implies $\n",
        "\n",
        "$$\n",
        "\\sum_{i}^{n} (n-i)(n-i+1)\n",
        "$$ leading to an asymptotic complexity of $\\frac{1}{3} n^{3}$"
      ]
    },
    {
      "cell_type": "code",
      "metadata": {
        "id": "mdZ75ZfXQVdH"
      },
      "source": [
        ""
      ],
      "execution_count": null,
      "outputs": []
    },
    {
      "cell_type": "markdown",
      "metadata": {
        "id": "_iM6NwHQOGId"
      },
      "source": [
        "### 2. Stability of LU (8 pts)\n",
        "\n",
        "* (4 pts) Show, that for these  matrices $A$ and $B$ LU decomposition fails. Why does it happen?\n",
        "\n",
        "\n",
        "\n",
        "$\n",
        "A = \\begin{pmatrix}\n",
        "0 & 1 \\\\\n",
        "2 & 3\n",
        "\\end{pmatrix}.$ \n",
        "\n",
        "$B = \\begin{pmatrix}\n",
        "1 & 1 & 0\\\\\n",
        "1 & 1 & 2 \\\\\n",
        "1 & 2 & 1\n",
        "\\end{pmatrix}.$ \n",
        "\n",
        "* (4 pts) In the LU decomposition, a pivot position is a position of the element that identifies the row and column that will be eliminated in the current step. For example, first pivot in LU is usually the left top element. What value of $c$ leads to zero in the second pivot position? What $c$ produces zero in the third pivot position? What modification of LU should we use in order to address the possible zeros in pivot position?\n",
        "\n",
        "$A = \\begin{pmatrix}\n",
        "1 & c & 0\\\\\n",
        "2 & 4 & 1 \\\\\n",
        "3 & 5 & 1\n",
        "\\end{pmatrix}.$ "
      ]
    },
    {
      "cell_type": "markdown",
      "metadata": {
        "id": "FiCe9YsnARrD"
      },
      "source": [
        "**Solution**\n",
        "\n",
        "###2.1\n",
        "Let's Consider the general matrix decomposition form of LU:\n",
        "$\\left(\\begin{array}{ll}0 & 1 \\\\ 2 & 3\\end{array}\\right)=\\left(\\begin{array}{ll}1 & 0 \\\\ \\alpha & 1\\end{array}\\right)\\left(\\begin{array}{ll}\\beta & \\gamma \\\\ 0 & \\varepsilon\\end{array}\\right)$\n",
        "\n",
        "Solving the linear equations we:\n",
        "\n",
        "$\\beta=0$\n",
        "\n",
        "$\\varepsilon=1$\n",
        "\n",
        "$\\alpha \\beta=2$\n",
        "  but $\\beta = 0$\n",
        "$\\implies $ There exists no such $α$\n",
        "\n",
        "\n",
        "$\\Rightarrow$ we can't express A in terms of LU.\n",
        "\n",
        "Similarly:\n",
        "\n",
        "$\\left(\\begin{array}{ll}1 & 1 & 0 \\\\ 1 & 2 & 2 \\\\ 1 & 2 & 1\\end{array}\\right)=\\left(\\begin{array}{lll}1 & 0 & 0 \\\\ \\alpha_{1} & 1 & 0\\\\ \\alpha_{2} & \\alpha_{3} & 1\\end{array}\\right)\\left(\\begin{array}{lll}\\beta_{1} & \\gamma_{1} & \\varepsilon \\\\ 0 & \\beta_{2} & \\gamma_{2} \\\\ 0 & 0 & \\beta_{2}\\end{array}\\right)$\n",
        "\n",
        "Solving this system of linear equations we get:\n",
        "\n",
        "$\\beta_{1}=1 \\quad \\alpha_{1}\\beta_{1}=1 \\Rightarrow \\alpha_{1}=1$\n",
        "\n",
        "$\\gamma_{1}=1 \\quad \\alpha_{1} \\gamma_{1}+\\beta_{2}=1 \\Rightarrow \\beta_{2}=0$\n",
        "\n",
        "$\\varepsilon=0 \\quad \\alpha_{1} \\varepsilon+\\gamma_{2}=2 \\Rightarrow \\gamma_{2}=2$\n",
        "\n",
        "$\\alpha_{2} \\beta_{1}=1 \\Rightarrow \\alpha_{2}=1$\n",
        "\n",
        "$\\alpha_{2} \\gamma_{1}+\\alpha_{1} \\beta_{2}=2$\n",
        "\n",
        "From the other side,\n",
        "\n",
        "$\\alpha_{2} \\gamma_{1}+\\alpha_{1} \\beta_{2}= 1 \\cdot 1+1\\cdot 0 \\neq 2$\n",
        "\n",
        "$\\implies$Contradiction.\n",
        "\n",
        "Therefore it is not possible to write the matrix in this form\n",
        "\n",
        "###2.1\n",
        "For Piviot positions to be zero in the Gauss elimination steps the Top left square matrices of the leading minors should be singular, Thus:\n",
        "\n",
        "\n",
        "$$\\det\\left(\\begin{array}{ll}1 & c \\\\ 2 & 4\\end{array}\\right)=4-2c =0 \\implies c=2$$ $$\\operatorname{det}\\left(\\begin{array}{lll}1 & c & 0 \\\\ 2 & 4 & 1 \\\\ 3 & 5 & 1\\end{array}\\right)=-1 + c=0 \\implies c=1$$"
      ]
    },
    {
      "cell_type": "markdown",
      "metadata": {
        "id": "YFc3BR_TOGIj"
      },
      "source": [
        "### 3. Implementation of PLU decomposition (14 pts)\n",
        "\n",
        "As you have noticed before, LU decomposition may fail. In order to make it stable, we can use LU decomposition with pivoting  (PLU).\n",
        "\n",
        "We want to find such permutation matrix $P$ that LU decomposition of $PA$ exists\n",
        "\n",
        "$$ PA = LU $$\n",
        "\n",
        "- (7 pts) Implement efficiently PLU decomposition (without loops and with appropriate level of BLAS operations).  Also, pay attention to the way of permutation matrix storage.\n",
        "\n",
        "- (4 pts ) Compare your function for computing PLU with built-in function on matrices of such type ```(mirror_diag = [1,2,1], n = 4)```. (Bandwidth and matrix size may vary). So, you can pass them as dense 2D NumPy array and do not tune your implementation to this special structure. Compare them in terms of running time (use ```%timeit``` magic) for range of dimensions to recover the asymptotic rate of time increasing and in terms of acuracy. We expect you plot the running time vs matrix dimension for built-in function and your implementation. So you should get the plot with two lines.\n",
        "Consider additionally one of the pathological examples from above, where LU fails, but PLU has to work.\n",
        "\n",
        "\n",
        "$$A = \\begin{pmatrix}\n",
        "0 & 0 & 1 & 1 \\\\\n",
        " 0 &1 & 2 & 1  \\\\\n",
        " 1 & 2 & 1  & 0\\\\\n",
        "1 & 2  & 0 & 0  \\\\\n",
        "\\end{pmatrix}.$$\n",
        "\n",
        "\n",
        "- (3 pts) Discuss the obtained results and explain how is it possible to accelerate computing the PLU factorization. \n",
        "\n",
        "NumPy or JAX are both ok in this problem, but please use the single library for all implementations. "
      ]
    },
    {
      "cell_type": "code",
      "metadata": {
        "id": "32HpfOPMOGIg"
      },
      "source": [
        "def get_plu(A):\n",
        "    \n",
        "    n = A.shape[0]\n",
        "    \n",
        "    U = np.array(A, dtype=float)\n",
        "    L = np.eye(n)\n",
        "    P = np.eye(n)\n",
        "    \n",
        "    for i in range(n):\n",
        "        \n",
        "        #Permute rows if needed\n",
        "        for k in range(i, n): \n",
        "            if ~np.isclose(U[i, i], 0.0):\n",
        "                break\n",
        "            U[[k, k+1]] = U[[k+1, k]]\n",
        "            P[[k, k+1]] = P[[k+1, k]]\n",
        "            \n",
        "        factor = U[i+1:, i] / U[i, i]\n",
        "        L[i+1:, i] = factor\n",
        "        U[i+1:] -= factor[:, np.newaxis] * U[i]\n",
        "        \n",
        "    return P, L, U"
      ],
      "execution_count": 121,
      "outputs": []
    },
    {
      "cell_type": "code",
      "metadata": {
        "id": "9b8VwhaV6WGR",
        "colab": {
          "base_uri": "https://localhost:8080/"
        },
        "outputId": "077216d0-131a-40c8-b410-a6eac5d3c326"
      },
      "source": [
        "import scipy.linalg\n",
        "A = np.array(np.random.randint(100, size=(5, 5)))\n",
        "    \n",
        "p, l, u = get_plu(A)\n",
        "P, L, U = scipy.linalg.lu(A)\n",
        "\n",
        "np.allclose(p @ l @ u, P @ L @ U)"
      ],
      "execution_count": 123,
      "outputs": [
        {
          "output_type": "execute_result",
          "data": {
            "text/plain": [
              "True"
            ]
          },
          "metadata": {},
          "execution_count": 123
        }
      ]
    },
    {
      "cell_type": "code",
      "metadata": {
        "id": "4FNF_gNTa-1R"
      },
      "source": [
        "n_vals = [i for i in [5, 10, 50, 100, 500, 1000]]\n",
        "    \n",
        "custom_times = []\n",
        "\n",
        "start = default_timer()\n",
        "for n in n_vals:\n",
        "    A = np.array(np.random.randint(100, size=(n, n)))\n",
        "    get_plu(A)\n",
        "    custom_times.append(default_timer() - start)\n",
        "\n",
        "box_times = []\n",
        "\n",
        "start = default_timer()\n",
        "for n in n_vals:\n",
        "    A = np.array(np.random.randint(100, size=(n, n)), dtype=float)\n",
        "    scipy.linalg.lu(A)\n",
        "    box_times.append(default_timer() - start)"
      ],
      "execution_count": 124,
      "outputs": []
    },
    {
      "cell_type": "code",
      "metadata": {
        "colab": {
          "base_uri": "https://localhost:8080/",
          "height": 612
        },
        "id": "7lNhbP53bDps",
        "outputId": "6cdf7285-dd6b-453d-8802-37d7bdff7bc4"
      },
      "source": [
        "plt.figure(figsize=(10, 10))\n",
        "\n",
        "plt.plot(n_vals, custom_times, label='Custom PLU approach')\n",
        "\n",
        "plt.plot(n_vals, box_times, color='orange', label='Out-of-box PLU approach')\n",
        "\n",
        "plt.xlabel('$N$, order of matrix')\n",
        "plt.ylabel('$t$, secs')\n",
        "plt.xscale('log')\n",
        "plt.legend()\n",
        "plt.grid()\n",
        "plt.show()"
      ],
      "execution_count": 126,
      "outputs": [
        {
          "output_type": "display_data",
          "data": {
            "image/png": "[encoded data removed]",
            "text/plain": [
              "<Figure size 720x720 with 1 Axes>"
            ]
          },
          "metadata": {
            "needs_background": "light"
          }
        }
      ]
    },
    {
      "cell_type": "code",
      "metadata": {
        "colab": {
          "base_uri": "https://localhost:8080/"
        },
        "id": "HWVBNj6Fb15t",
        "outputId": "6ddbd9d7-730b-4a73-8ab8-c67d7ce63304"
      },
      "source": [
        "A = np.array([[-1, 1], [3, -3]])\n",
        "\n",
        "_, L, U = scipy.linalg.lu(A)\n",
        "\n",
        "np.allclose(L @ U, A)\n",
        "\n"
      ],
      "execution_count": 129,
      "outputs": [
        {
          "output_type": "execute_result",
          "data": {
            "text/plain": [
              "False"
            ]
          },
          "metadata": {},
          "execution_count": 129
        }
      ]
    },
    {
      "cell_type": "code",
      "metadata": {
        "colab": {
          "base_uri": "https://localhost:8080/"
        },
        "id": "lGJ9fAUSb8q8",
        "outputId": "a1f73aa1-6ee3-4903-a79f-c923a06ab8c1"
      },
      "source": [
        "P, L, U = scipy.linalg.lu(A)\n",
        "\n",
        "np.allclose(P @ L @ U, A)"
      ],
      "execution_count": 128,
      "outputs": [
        {
          "output_type": "execute_result",
          "data": {
            "text/plain": [
              "True"
            ]
          },
          "metadata": {},
          "execution_count": 128
        }
      ]
    },
    {
      "cell_type": "markdown",
      "metadata": {
        "id": "EQwdRJSIOGIg"
      },
      "source": [
        "### 4. Block LU (10 pts)\n",
        "\n",
        "Let $A = \\begin{bmatrix} A_{11} & A_{12} \\\\ A_{21} & A_{22} \\end{bmatrix}$ be a block matrix. The goal is to solve the linear system\n",
        "\n",
        "$$\n",
        "     \\begin{bmatrix} A_{11} & A_{12} \\\\ A_{21} & A_{22} \\end{bmatrix} \\begin{bmatrix} u_1 \\\\ u_2 \\end{bmatrix} = \\begin{bmatrix} f_1 \\\\ f_2 \\end{bmatrix}.\n",
        "$$\n",
        "\n",
        "* (2 pts) Using block elimination find matrix $S$ and right-hand side $\\hat{f_2}$ so that $u_2$ can be found from $S u_2 = \\hat{f_2}$. Note that the matrix $S$ is called <span style=\"color:red\">Schur complement</span> of the block $A_{11}$.\n",
        "* (4 pts) Using Schur complement properties prove that \n",
        "\n",
        "$$\\det(X+AB) = \\det(X)\\det(I+BX^{-1}A), $$\n",
        "\n",
        "\n",
        "where $X$ - nonsingular square matrix.\n",
        "* (4 pts) Let matrix $F \\in \\mathbb{R}^{m \\times n}$ and $G \\in \\mathbb{R}^{n \\times m}$. Prove that \n",
        "\n",
        "$$\\det(I_m - FG) = \\det(I_n - GF).$$"
      ]
    },
    {
      "cell_type": "markdown",
      "metadata": {
        "id": "g7_vibD18qPx"
      },
      "source": [
        "**Solution** \n",
        "\n",
        "### 4.1\n",
        "\n",
        "The linear system $$\n",
        "     \\begin{bmatrix} A_{11} & A_{12} \\\\ A_{21} & A_{22} \\end{bmatrix} \\begin{bmatrix} u_1 \\\\ u_2 \\end{bmatrix} = \\begin{bmatrix} f_1 \\\\ f_2 \\end{bmatrix}.\n",
        "$$\n",
        "\n",
        "Opening the Equations \n",
        "\n",
        "$$ A_{11} u_{1}+ A_{12} u_{2} = f_{1} \\\\ A_{21} u_{1}+ A_{22} u_{2} = f_{2} $$\n",
        "\n",
        "multiplying the second equation by $A_{11}A_{21}^{-1}$ gives:\n",
        "\n",
        "$$A_{11} u_{1}+ A_{12} u_{2} = f_{1} \\\\ A_{11}A_{21}^{-1}A_{21} u_{1}+ A_{11}A_{21}^{-1}A_{22} u_{2} = A_{11}A_{21}^{-1}f_{2}$$\n",
        "\n",
        "$$\\implies A_{11} u_{1}+ A_{12} u_{2} = f_{1} \\\\\\implies A_{11} u_{1}+ A_{11}A_{21}^{-1}A_{22} u_{2} = A_{11}A_{21}^{-1}f_{2}$$\n",
        "\n",
        "Subtracting second equation from first:\n",
        "\n",
        "$$(A_{12} - A_{11}A_{21}^{-1}A_{22}) u_{2} = f_{1} - A_{11}A_{21}^{-1}f_{2}$$\n",
        "\n",
        "Thus: \n",
        "$$S = A_{12} - A_{11}A_{21}^{-1}A_{22}$$\n",
        "$$\\hat{f_2} = f_{1} - A_{11}A_{21}^{-1}f_{2}$$\n",
        "\n",
        "### 4.2\n",
        "\n",
        "* (4 pts) Using Schur complement properties prove that \n",
        "\n",
        "$$\\det(X+AB) = \\det(X)\\det(I+BX^{-1}A), $$\n",
        "\n",
        "where $X$ - nonsingular square matrix.\n",
        "\n",
        "##### Consider the LDU decomposition:\n",
        "\n",
        "$$\\begin{bmatrix} A & B \\\\ C & D \\end{bmatrix} = \\begin{bmatrix} I & BD^{-1} \\\\ 0 & I \\end{bmatrix} \\begin{bmatrix} A - BD^{-1}C & 0 \\\\ 0 & D \\end{bmatrix} \\begin{bmatrix} I & 0 \\\\ D^{-1}C & I \\end{bmatrix} $$\n",
        "\n",
        "Taking Det both sides we get:\n",
        "\n",
        "$$\\det \\begin{bmatrix} A & B \\\\ C & D \\end{bmatrix} = \\det(D) \\cdot \\det (A - BD^{-1}C)$$\n",
        "\n",
        "Now for our excersice we need to make $X+AB$ on the LHS thus considering:\n",
        "\n",
        "$$\\det \\begin{bmatrix} I & -B \\\\ A & X \\end{bmatrix} = \\det(X+AB) = \\det(X) \\cdot \\det (I + BX^{-1}A)$$\n",
        "\n",
        "Hence proved.\n",
        "\n",
        "### 4.3\n",
        "\n",
        "To prove:\n",
        "\n",
        "$$\\det(I_m - FG) = \\det(I_n - GF).$$\n",
        "\n",
        "Consider the two LDU forms of the matrix:\n",
        "\n",
        "$$\\begin{bmatrix} A & B \\\\ C & D \\end{bmatrix} = \\begin{bmatrix} I & BD^{-1} \\\\ 0 & I \\end{bmatrix} \\begin{bmatrix} A - BD^{-1}C & 0 \\\\ 0 & D \\end{bmatrix} \\begin{bmatrix} I & 0 \\\\ D^{-1}C & I \\end{bmatrix} =\\begin{bmatrix} I & 0 \\\\ CA^{-1} & I \\end{bmatrix} \\begin{bmatrix} A & 0 \\\\ 0 & D-CA^{-1}B \\end{bmatrix} \\begin{bmatrix} I & A^{-1}B \\\\ 0 & I \\end{bmatrix} $$\n",
        "\n",
        "Taking Det both sides\n",
        "\n",
        "$$\\det \\begin{bmatrix} A & B \\\\ C & D \\end{bmatrix} = \\det(D) \\cdot \\det (A - BD^{-1}C) = \\det(A) \\cdot \\det (D - CA^{-1}B)$$\n",
        "\n",
        "Now to match the dimentions with G and F we consider two square Identity matrices and use:\n",
        "\n",
        "$$\\begin{bmatrix} I_{n} & G \\\\ F & I_{m} \\end{bmatrix}$$\n",
        "\n",
        "$$\\det \\begin{bmatrix} I_{n} & G \\\\ F & I_{m} \\end{bmatrix} = \\det(I_n) \\cdot \\det (I_m - FI_{n}^{-1}G) = \\det(I_m) \\cdot \\det (I_n - GI_{m}^{-1}F)$$\n",
        "\n",
        "\n",
        "$$\\det(I_m - FG) = \\det(I_n - GF).$$\n",
        "\n",
        "Hence Proved."
      ]
    },
    {
      "cell_type": "markdown",
      "metadata": {
        "id": "GABkKdmLvuUv"
      },
      "source": [
        "## Problem 2 (eigenvalues)  (50 pts)\n",
        "\n",
        "### 1. Theoretical tasks (15 pts)\n",
        "\n",
        "* (2 pts) Prove that eigenvectors that correspond to distinct eigenvalues are linearly independent.\n",
        "\n",
        "* (3 pts) $A$ is a matrix such that $a_{i,j} \\ge 0$ and $\\sum_{j}a_{i,j} = 1$ (sum of the elements in each row is 1). Prove that $A$ has an eigenvalue $\\lambda=1$ and that any eigenvalue $\\lambda_i$: $|\\lambda_i| \\le 1$.\n",
        "\n",
        "* (5 pts) Prove that normal matrix is Hermitian iff its eigenvalues are real. Prove that normal matrix is unitary iff its eigenvalues satisfy $|\\lambda| = 1$. \n",
        "\n",
        "* (5 pts) The following problem illustrates instability of the Jordan form. Find theoretically the eigenvalues of the perturbed Jordan block (there is only one $\\varepsilon$ - in the left lower corner):\n",
        "\n",
        "$$\n",
        "    J(\\varepsilon) = \n",
        "    \\begin{bmatrix} \n",
        "     \\lambda & 1 & & & 0 \\\\ \n",
        "     0 & \\lambda & 1 & & \\\\ \n",
        "     & 0 & \\ddots & \\ddots & \\\\ \n",
        "     & & 0 & \\lambda & 1 \\\\ \n",
        "     \\varepsilon & & & 0 & \\lambda  \\\\ \n",
        "    \\end{bmatrix}_{n\\times n}\n",
        "$$\n",
        "\n",
        "   Comment how eigenvalues of $J(0)$ are perturbed for large $n$."
      ]
    },
    {
      "cell_type": "markdown",
      "metadata": {
        "id": "KgEhRSP-7MdI"
      },
      "source": [
        "**Solution** \n",
        "\n",
        "###1.1\n",
        "Let's Assume eigen vectord to be LD\n",
        "\n",
        "For eigenvectors $\\overrightarrow{v^{1}}, \\overrightarrow{v^{2}}, \\ldots, \\overrightarrow{v^{n}}$ with different eigenvalues $\\lambda_{1} \\neq \\lambda_{2} \\neq \\cdots \\neq \\lambda_{n}$ of a $n \\times n$ matrix A.\n",
        "Given the $n \\times n$ matrix $P$ of the eigenvectors (with eigenvectors as the columns).\n",
        "$$\n",
        "P=\\left[\\overrightarrow{v^{1}}, \\overrightarrow{v^{2}}, \\ldots, \\overrightarrow{v^{n}}\\right]\n",
        "$$\n",
        "\n",
        "Let $\\vec{c}=\\left(c_{1}, c_{2}, \\ldots, c_{n}\\right)^{T}$\n",
        "We need to show that only $c_{1}=c_{2}=\\ldots=c_{n}=0$ can satisfy the following:\n",
        "$$\n",
        "\\overrightarrow{c_{1} v^{1}}+{\\vec{c}_{2} v^{2}}+\\ldots=\\overrightarrow{0}\n",
        "$$\n",
        "\n",
        "Given the $n \\times n$ matrix $\\Lambda$ of the eigenvalues on the diagonal (zeros elsewhere):\n",
        "$$\n",
        "\\Lambda=\\left[\\begin{array}{cccc}\n",
        "\\lambda_{1} & 0 & \\ldots & 0 \\\\\n",
        "0 & \\lambda_{2} & \\ldots & 0 \\\\\n",
        "\\vdots & \\vdots & \\ddots & \\vdots \\\\\n",
        "0 & 0 & \\ldots & \\lambda_{n}\n",
        "\\end{array}\\right]\n",
        "$$\n",
        "\n",
        "Applying the matrix to this equation gives:\n",
        "$$\n",
        "c_{1} \\lambda_{1} \\overrightarrow{v^{1}}+c_{2} \\lambda_{2} \\overrightarrow{v^{2}}+\\ldots+c_{n} \\lambda_{n} \\overrightarrow{v^{n}}=\\overrightarrow{0}\n",
        "$$\n",
        "We can write this equation in the form of vectors and matrices:\n",
        "$$\n",
        "P \\Lambda \\vec{c}=\\overrightarrow{0}\n",
        "$$\n",
        "But with since $A$ can be diagonalised to $\\Lambda$, we know $P \\Lambda=A P$\n",
        "$$\n",
        "\\Longrightarrow A P \\vec{c}=\\overrightarrow{0}\n",
        "$$\n",
        "since $A P \\neq 0$, we have $\\vec{c}=0$.\n",
        "\n",
        "Which is a contradiction"
      ]
    },
    {
      "cell_type": "markdown",
      "metadata": {
        "id": "QWOWa_XjR1As"
      },
      "source": [
        "###1.2\n",
        "$$\n",
        "\\left(\\begin{array}{ccc}\n",
        "a_{11} & a_{12} & \\ldots & a_{1 m} \\\\\n",
        "a_{21} & a_{22} & \\\\\n",
        "\\vdots & a_{31} & \\\\\n",
        "a_{n 1} & & \\ddots & a_{nm}\n",
        "\\end{array}\\right)\\left(\\begin{array}{c}\n",
        "1 \\\\\n",
        "1 \\\\\n",
        "\\vdots \\\\\n",
        "1\n",
        "\\end{array}\\right)=\\left(\\begin{array}{c}\n",
        "\\sum_{j=1}^{n} a_{ij} \\\\\n",
        "\\vdots \\\\\n",
        "\\end{array}\\right) = \\left(\\begin{array}{c}\n",
        "1 \\\\\n",
        "1 \\\\\n",
        "\\vdots \\\\\n",
        "1\n",
        "\\end{array}\\right) = λ*\\left(\\begin{array}{c}\n",
        "1 \\\\\n",
        "1 \\\\\n",
        "\\vdots \\\\\n",
        "1\n",
        "\\end{array}\\right)\\\\\n",
        "$$ $\\implies \\lambda = 1$\n",
        "\n",
        "\n",
        "\n",
        "\n",
        "$$\n",
        "\\left(\\begin{array}{ccc}\n",
        "a_{11} & a_{12} & \\ldots & a_{1 m} \\\\\n",
        "a_{21} & a_{22} & \\\\\n",
        "\\vdots & a_{31} & \\\\\n",
        "a_{n 1} & & \\ddots & a_{nm}\n",
        "\\end{array}\\right)\\left(\\begin{array}{c}\n",
        "v_{1} \\\\\n",
        "v_{2} \\\\\n",
        "\\vdots \\\\\n",
        "v_{n}\n",
        "\\end{array}\\right)=\\left(\\begin{array}{c}\n",
        "(1+\\varepsilon) v_{1} \\\\\n",
        "(1+\\varepsilon) v_{2} \\\\\n",
        "\\vdots \\\\\n",
        "(1+\\varepsilon) v_{n}\n",
        "\\end{array}\\right)\n",
        "$$\n",
        "\n",
        "$\n",
        "\\left\\{\\begin{aligned}\n",
        "(1+\\varepsilon) v_{1} &=\\sum_{i=1}^{m} a_{i i} v_{i} \\\\\n",
        "(1+\\varepsilon) v_{2} &=\\sum_{i=1}^{\\infty} a_{2 i} v_{i} \\Rightarrow \\\\\n",
        "\\vdots &=\\sum_{i=1}^{m} a_{n i v_{i}}\n",
        "\\end{aligned}\\right.\n",
        "$\n",
        "$\n",
        "\\begin{aligned}\n",
        "(1+\\varepsilon) \\sum_{i=1}^{n} v_{i} &=\\sum_{j=1}^{n} \\sum_{i=1}^{n} a_{j i} v_{j}=\\sum_{j=1}^{n} v_{j} \\\\\n",
        "\\sum_{t 1} v_{i} &>\\sum_{1} v_{i}\n",
        "\\end{aligned}\n",
        "$\n",
        "That statement does not holds"
      ]
    },
    {
      "cell_type": "markdown",
      "metadata": {
        "id": "sAulEYZSTL0X"
      },
      "source": [
        "###1.3 \n",
        "###part1\n",
        "In equivalent definitions point 2 of [Wikipedia article of normal matrices](https://en.wikipedia.org/wiki/Normal_matrix) a matrix $A$ is normal if and only it is diagonalized by some unitary matrix, i.e., there exists a unitary matrix $U\\left(U U^{*}=U^{*} U=I\\right)$, such that\n",
        "$$\n",
        "A=U^{*} D U\n",
        "$$\n",
        "with $D$ diagonal, containing the eigenvalues of $A$ in the diagonal. \n",
        "\n",
        "\n",
        "In our case $A$ is also hermitian. $\\implies$\n",
        "$$\n",
        "A^{*}=\\left(U^{*} D U\\right)^{*}=U^{*} D^{*} U=U^{*} D U=A\n",
        "$$\n",
        "$$\\iff\n",
        "D^{*}=D$$ $\\implies$ the eigenvalues are real.\n",
        "\n",
        "###part2\n",
        "\n",
        "For Normal matrix to be unitary: \n",
        "$$\n",
        "A v=\\lambda v\n",
        "$$\n",
        "If I use the relationship $u v=v^{*} u$ and take the conjugate transpose of this equation then\n",
        "$$\n",
        "v^{*} A^{*}=\\lambda^{*} v^{*}\n",
        "$$\n",
        "\n",
        "You multiply your two relations to obtain\n",
        "$$\n",
        "\\begin{aligned}\n",
        "v^{*} A^{*} A v &=\\lambda^{*} v^{*} \\lambda v \n",
        "\\end{aligned}\n",
        "$$\n",
        "(for multiplication with a diagonal matrix we can swap the order)\n",
        "$$\\begin{aligned}\n",
        "v^{*} I v &=\\left(\\lambda^{*} \\lambda\\right) v^{*} v \\\\\n",
        "v^{*} v &=\\left(\\lambda^{*} \\lambda\\right) v^{*} v \\\\\n",
        "\\|v\\|^{2} &=|\\lambda|^{2}\\|v\\|^{2} \\\\\n",
        "\\sqrt{1} &=|\\lambda| \\\\\n",
        "1 &=|\\lambda|\n",
        "\\end{aligned}\n",
        "$$\n",
        "\n"
      ]
    },
    {
      "cell_type": "markdown",
      "metadata": {
        "id": "9ZRtpwx-RU1F"
      },
      "source": [
        "Solution\n",
        "\n",
        "### 1.4\n",
        "\n",
        "\n",
        "$\n",
        "    J(\\varepsilon) = \n",
        "    \\begin{bmatrix} \n",
        "     \\lambda & 1 & & & 0 \\\\ \n",
        "     & \\lambda & 1 & & \\\\ \n",
        "     &  & \\ddots & \\ddots & \\\\ \n",
        "     & & & \\lambda & 1 \\\\ \n",
        "     \\varepsilon & & & & \\lambda  \\\\ \n",
        "    \\end{bmatrix}_{n\\times n}\n",
        "$\n",
        "Using the first column to open the matrix and applying det\n",
        "\n",
        "$\\det (J(\\varepsilon) - \\alpha I) = 0 \\Leftrightarrow  (\\lambda - \\alpha)^{n} + (-1)^{n-1} \\varepsilon = 0$$\n",
        "\n",
        "$(\\lambda - \\alpha)^{n} = (-1)^{n} \\varepsilon $, where $\\alpha$ is an eigenvalue.\n",
        "\n",
        "$$ \\alpha_{k} = \\begin{cases}\\lambda - e^{i \\dfrac{2 \\pi k}{n}} \\sqrt[n]{\\varepsilon}, ~\\text{if} ~n ~\\text{is even}, ~k=0, \\cdots, n-1  \\\\\n",
        "\\lambda - e^{i (\\dfrac{2 \\pi k}{n} + \\dfrac{\\pi}{n})}\\sqrt[n]{\\varepsilon}, ~\\text{if} ~n ~\\text{is odd}, ~k=0, \\cdots, n-1 \\end{cases}\n",
        "$$\n",
        "\n",
        "If $\\varepsilon = 0$, then analytically our eigenvalues should be equal to zero\n",
        "but in computer arithmetic there can be case, then $\\varepsilon$ is very small value like $e^{-20}$. So,  $\\sqrt[n]{\\varepsilon}, ~n \\rightarrow \\infty$ will be some value, not equal to zero. So, we can see that in this case Jordan form is unstable."
      ]
    },
    {
      "cell_type": "markdown",
      "metadata": {
        "id": "xWcyqKyrOGIp"
      },
      "source": [
        "### 2. PageRank (35 pts)\n",
        "\n",
        "\n",
        "#### Damping factor importance\n",
        "\n",
        "* (5 pts) Write the function ```pagerank_matrix(G)``` that takes an adjacency matrix $G$ (in both sparse and dense formats) as an input and outputs the corresponding PageRank matrix $A$."
      ]
    },
    {
      "cell_type": "code",
      "metadata": {
        "id": "2jktwIc8OGIp"
      },
      "source": [
        "# INPUT:  G - np.ndarray or sparse matrix\n",
        "# OUTPUT: A - np.ndarray (of size G.shape) or sparse matrix\n",
        "def pagerank_matrix(G):\n",
        "    p_list = np.sum(G, axis=0)\n",
        "    \n",
        "    for i in range(G.shape[0]):\n",
        "        if p_list[i] != 0:\n",
        "            G[:, i] /= p_list[i]\n",
        "\n",
        "    return G"
      ],
      "execution_count": 130,
      "outputs": []
    },
    {
      "cell_type": "code",
      "metadata": {
        "id": "3OI_RpiUfiPJ"
      },
      "source": [
        "G = np.array([[0, 1, 0, 0, 0], [0, 0, 1, 0, 0], [1, 1, 0, 0, 0], [0, 0, 0, 0, 1], [0, 0, 0, 1, 0]], dtype=np.float) "
      ],
      "execution_count": 131,
      "outputs": []
    },
    {
      "cell_type": "code",
      "metadata": {
        "colab": {
          "base_uri": "https://localhost:8080/"
        },
        "id": "JpDzcSbcflti",
        "outputId": "72d34b12-5e9f-428d-9562-ef1a4e40225c"
      },
      "source": [
        "A = pagerank_matrix(G)\n",
        "A"
      ],
      "execution_count": 132,
      "outputs": [
        {
          "output_type": "execute_result",
          "data": {
            "text/plain": [
              "array([[0. , 0.5, 0. , 0. , 0. ],\n",
              "       [0. , 0. , 1. , 0. , 0. ],\n",
              "       [1. , 0.5, 0. , 0. , 0. ],\n",
              "       [0. , 0. , 0. , 0. , 1. ],\n",
              "       [0. , 0. , 0. , 1. , 0. ]])"
            ]
          },
          "metadata": {},
          "execution_count": 132
        }
      ]
    },
    {
      "cell_type": "markdown",
      "metadata": {
        "id": "BtVmgGnYOGIs"
      },
      "source": [
        "* (3 pts) Find PageRank matrix $A$ that corresponds to the following graph: <img src=\"https://github.com/oseledets/nla2021/blob/master/hw/hw2/graph.png?raw=1\" width='250'>\n",
        "What is its largest eigenvalue? What multiplicity does it have?\n",
        "\n",
        "\n",
        "* (5 pts) Implement the power method for a given matrix $A$, an initial guess $x_0$ and a number of iterations ```num_iter```. It should be organized as a function ```power_method(A, x0, num_iter)``` that outputs approximation to eigenvector $x$, eigenvalue $\\lambda$ and history of residuals $\\{\\|Ax_k - \\lambda_k x_k\\|_2\\}$. Make sure that the method converges to the correct solution on a matrix $\\begin{bmatrix} 2 & -1 \\\\ -1 & 2 \\end{bmatrix}$ which is known to have the largest eigenvalue equal to $3$."
      ]
    },
    {
      "cell_type": "code",
      "metadata": {
        "colab": {
          "base_uri": "https://localhost:8080/"
        },
        "id": "cTAyLj3Pfs1P",
        "outputId": "11c19f26-24ff-4b62-b105-c880714bc7be"
      },
      "source": [
        "np.linalg.eigvals(A)"
      ],
      "execution_count": 133,
      "outputs": [
        {
          "output_type": "execute_result",
          "data": {
            "text/plain": [
              "array([-0.5+0.5j, -0.5-0.5j,  1. +0.j ,  1. +0.j , -1. +0.j ])"
            ]
          },
          "metadata": {},
          "execution_count": 133
        }
      ]
    },
    {
      "cell_type": "markdown",
      "metadata": {
        "id": "M0C6OMHGfuAt"
      },
      "source": [
        "As we can see the third and forth element in the array are the largest and they are repeating, thus algebraic multiplicity = 2 "
      ]
    },
    {
      "cell_type": "code",
      "metadata": {
        "id": "uLo7A--rOGIs"
      },
      "source": [
        "# INPUT:  A - np.ndarray (2D), x0 - np.ndarray (1D), num_iter - integer (positive)\n",
        "# OUTPUT: x - np.ndarray (of size x0), l - float, res - np.ndarray (of size num_iter + 1 [include initial guess])\n",
        "def power_method(A, x0, n_iter): # 5 pts\n",
        "    n = A.shape[0]\n",
        "    res = []\n",
        "    for i in range(n_iter):\n",
        "        x0 = A @ x0\n",
        "        x0 /= np.linalg.norm(x0, 2)\n",
        "        \n",
        "        l = np.dot(A @ x0, x0)\n",
        "        res.append(np.linalg.norm(A @ x0 - l * x0, 2))\n",
        "        \n",
        "    # enter your code here\n",
        "    return x0, l, res"
      ],
      "execution_count": 138,
      "outputs": []
    },
    {
      "cell_type": "code",
      "metadata": {
        "colab": {
          "base_uri": "https://localhost:8080/"
        },
        "id": "1t11WLtlhyd3",
        "outputId": "d1b7470b-50ee-4e4c-f657-45f046318f80"
      },
      "source": [
        "A = np.array([[2, -1], [-1, 2]], dtype=float)\n",
        "x0 = np.random.rand(2)\n",
        "\n",
        "_, l, res = power_method(A, x0=x0, n_iter=1000)\n",
        "\n",
        "print(l)"
      ],
      "execution_count": 140,
      "outputs": [
        {
          "output_type": "stream",
          "name": "stdout",
          "text": [
            "2.9999999999999996\n"
          ]
        }
      ]
    },
    {
      "cell_type": "markdown",
      "metadata": {
        "id": "9hAowO6zOGIu"
      },
      "source": [
        "* (2 pts) Run the power method for the graph presented above and plot residuals $\\|Ax_k - \\lambda_k x_k\\|_2$ as a function of $k$ for ```num_iter=100``` and random initial guess ```x0```.  Explain the absence of convergence. \n",
        "\n",
        "\n",
        "* (2 pts) Consider the same graph, but with additional self loop at node 4 (self loop is an edge that connects a vertex with itself). Plot residuals as in the previous task and discuss the convergence. Now, run the power method with ```num_iter=100``` for 10 different initial guesses and print/plot the resulting approximated eigenvectors. Why do they depend on the initial guess?\n",
        "\n",
        "\n",
        "In order to avoid this problem Larry Page and Sergey Brin [proposed](http://ilpubs.stanford.edu:8090/422/1/1999-66.pdf) to use the following regularization technique:\n",
        "\n",
        "$$\n",
        "A_d = dA + \\frac{1-d}{N} \\begin{pmatrix} 1 & \\dots & 1 \\\\ \\vdots & & \\vdots \\\\ 1 & \\dots & 1 \\end{pmatrix},\n",
        "$$\n",
        "\n",
        "where $d$ is a small parameter in $[0,1]$ (typically $d=0.85$), which is called **damping factor**, $A$ is of size $N\\times N$. Now $A_d$ is the matrix with multiplicity of the largest eigenvalue equal to 1. \n",
        "Recall that computing the eigenvector of the PageRank matrix, which corresponds to the largest eigenvalue, has the following interpretation. Consider a person who stays in a random node of a graph (i.e. opens a random web page); at each step s/he follows one of the outcoming edges uniformly at random (i.e. opens one of the links). So the person randomly walks through the graph and the eigenvector we are looking for is exactly his/her stationary distribution â€” for each node it tells you the probability of visiting this particular node. Therefore, if the person has started from a part of the graph which is not connected with the other part, he will never get there.  In the regularized model, the person at each step follows one of the outcoming links with probability $d$ OR teleports to a random node from the whole graph with probability $(1-d)$.\n",
        "\n",
        "* (2 pts) Now, run the power method with $A_d$ and plot residuals $\\|A_d x_k - \\lambda_k x_k\\|_2$ as a function of $k$ for $d=0.97$, ```num_iter=100``` and a random initial guess ```x0```.\n",
        "\n",
        "* (5 pts) Find the second largest in the absolute value eigenvalue of the obtained matrix $A_d$. How and why is it connected to the damping factor $d$? What is the convergence rate of the PageRank algorithm when using damping factor?\n",
        "\n",
        "Usually, graphs that arise in various areas are sparse (social, web, road networks, etc.) and, thus, computation of a matrix-vector product for corresponding PageRank matrix $A$ is much cheaper than $\\mathcal{O}(N^2)$. However, if $A_d$ is calculated directly, it becomes dense and, therefore, $\\mathcal{O}(N^2)$ cost grows prohibitively large for  big $N$.\n",
        "\n",
        "\n",
        "* (2 pts) Implement fast matrix-vector product for $A_d$ as a function ```pagerank_matvec(A, d, x)```, which takes a PageRank matrix $A$ (in sparse format, e.g., ```csr_matrix```), damping factor $d$ and a vector $x$ as an input and returns $A_dx$ as an output. \n",
        "\n",
        "* (1 pts) Generate a random adjacency matrix of size $10000 \\times 10000$ with only 100 non-zero elements and compare ```pagerank_matvec``` performance with direct evaluation of $A_dx$."
      ]
    },
    {
      "cell_type": "code",
      "metadata": {
        "id": "_V_uWjJYlBLo"
      },
      "source": [
        "starting_x = 2"
      ],
      "execution_count": 142,
      "outputs": []
    },
    {
      "cell_type": "code",
      "metadata": {
        "id": "V2T79nUGoKeq"
      },
      "source": [
        "A = np.array([[0, 1, 0, 0, 0], [0, 0, 1, 0, 0], [1, 1, 0, 0, 0], [0, 0, 0, 0, 1], [0, 0, 0, 1, 0]], dtype='float')\n",
        "starting_x = np.random.uniform(0, 1, 5)\n",
        "v, l, res = power_method(pagerank_matrix(A), starting_x, 100)"
      ],
      "execution_count": 143,
      "outputs": []
    },
    {
      "cell_type": "code",
      "metadata": {
        "colab": {
          "base_uri": "https://localhost:8080/",
          "height": 328
        },
        "id": "Ua8lJS1WoQ-J",
        "outputId": "dbeda21b-a3ee-47f5-cf9c-39c7e27fd263"
      },
      "source": [
        "plt.plot(np.arange(100), res)\n",
        "plt.xlabel('Iteration', fontsize=24)\n",
        "plt.ylabel('Residual', fontsize=24)\n",
        "plt.legend()"
      ],
      "execution_count": 144,
      "outputs": [
        {
          "output_type": "stream",
          "name": "stderr",
          "text": [
            "No handles with labels found to put in legend.\n"
          ]
        },
        {
          "output_type": "execute_result",
          "data": {
            "text/plain": [
              "<matplotlib.legend.Legend at 0x7f3d8c777290>"
            ]
          },
          "metadata": {},
          "execution_count": 144
        },
        {
          "output_type": "display_data",
          "data": {
            "image/png": "[encoded data removed]",
            "text/plain": [
              "<Figure size 432x288 with 1 Axes>"
            ]
          },
          "metadata": {
            "needs_background": "light"
          }
        }
      ]
    },
    {
      "cell_type": "markdown",
      "metadata": {
        "id": "Yu6QRST5oUxn"
      },
      "source": [
        "It seems converging "
      ]
    },
    {
      "cell_type": "code",
      "metadata": {
        "id": "iTer4Gt2oc8p"
      },
      "source": [
        "starting_x = 7"
      ],
      "execution_count": 145,
      "outputs": []
    },
    {
      "cell_type": "code",
      "metadata": {
        "id": "P-X240sxof3S"
      },
      "source": [
        "A = np.array([[0, 1, 0, 0, 0], [0, 0, 1, 0, 0], [1, 1, 0, 0, 0], [0, 0, 0, 0, 1], [0, 0, 0, 1, 0]], dtype='float')\n",
        "starting_x = np.random.uniform(0, 1, 5)\n",
        "v, l, res = power_method(pagerank_matrix(A), starting_x, 100)"
      ],
      "execution_count": 146,
      "outputs": []
    },
    {
      "cell_type": "code",
      "metadata": {
        "colab": {
          "base_uri": "https://localhost:8080/",
          "height": 328
        },
        "id": "g3xHp6ZcoiTD",
        "outputId": "8edcfdd7-1f0c-4caa-9953-21bc9e9514e3"
      },
      "source": [
        "plt.plot(np.arange(100), res)\n",
        "plt.xlabel('Iteration', fontsize=24)\n",
        "plt.ylabel('Residual', fontsize=24)\n",
        "plt.legend()"
      ],
      "execution_count": 147,
      "outputs": [
        {
          "output_type": "stream",
          "name": "stderr",
          "text": [
            "No handles with labels found to put in legend.\n"
          ]
        },
        {
          "output_type": "execute_result",
          "data": {
            "text/plain": [
              "<matplotlib.legend.Legend at 0x7f3da5795050>"
            ]
          },
          "metadata": {},
          "execution_count": 147
        },
        {
          "output_type": "display_data",
          "data": {
            "image/png": "[encoded data removed]",
            "text/plain": [
              "<Figure size 432x288 with 1 Axes>"
            ]
          },
          "metadata": {
            "needs_background": "light"
          }
        }
      ]
    },
    {
      "cell_type": "markdown",
      "metadata": {
        "id": "ipGJxLJdolnz"
      },
      "source": [
        "This time it does't converge implying dependence on initial value"
      ]
    },
    {
      "cell_type": "code",
      "metadata": {
        "id": "4o3LKx5UOGIv"
      },
      "source": [
        "# INPUT:  A - np.ndarray (2D), d - float (from 0.0 to 1.0), x - np.ndarray (1D, size of A.shape[0/1])\n",
        "# OUTPUT: y - np.ndarray (1D, size of x)\n",
        "def pagerank_matvec(A, d, x): # 2 pts\n",
        "    # enter your code here\n",
        "    return y"
      ],
      "execution_count": null,
      "outputs": []
    },
    {
      "cell_type": "markdown",
      "metadata": {
        "id": "ru70NGUlOGIy"
      },
      "source": [
        "#### DBLP: computer science bibliography\n",
        "\n",
        "Download the dataset from [here](https://goo.gl/oZVxEa), unzip it and put `dblp_authors.npz`  and `dblp_graph.npz` in the same folder with this notebook. Each value (author name) from `dblp_authors.npz` corresponds to the row/column of the matrix from `dblp_graph.npz`. Value at row `i` and column `j` of the matrix from `dblp_graph.npz` corresponds to the number of times author `i` cited papers of the author `j`. Let us now find the most significant scientists according to PageRank model over DBLP data.\n",
        "\n",
        "* (4 pts) Load the weighted adjacency matrix and the authors list into Python using ```load_dblp(...)``` function. Print its density (fraction of nonzero elements). Find top-10 most cited authors from the weighted adjacency matrix. Now, make all the weights of the adjacency matrix equal to 1 for simplicity (consider only existence of connection between authors, not its weight). Obtain the PageRank matrix $A$ from the adjacency matrix and verify that it is stochastic.\n",
        " \n",
        " \n",
        "* (1 pts) In order to provide ```pagerank_matvec``` to your ```power_method``` (without rewriting it) for fast calculation of $A_dx$, you can create a ```LinearOperator```: \n",
        "```python\n",
        "L = scipy.sparse.linalg.LinearOperator(A.shape, matvec=lambda x, A=A, d=d: pagerank_matvec(A, d, x))\n",
        "```\n",
        "Calling ```L@x``` or ```L.dot(x)``` will result in calculation of ```pagerank_matvec(A, d, x)``` and, thus, you can plug $L$ instead of the matrix $A$ in the ```power_method``` directly. **Note:** though in the previous subtask graph was very small (so you could disparage fast matvec implementation), here it is very large (but sparse), so that direct evaluation of $A_dx$ will require $\\sim 10^{12}$ matrix elements to store - good luck with that (^_<).\n",
        "\n",
        "\n",
        "* (2 pts) Run the power method starting from the vector of all ones and plot residuals $\\|A_dx_k - \\lambda_k x_k\\|_2$  as a function of $k$ for $d=0.85$.\n",
        "\n",
        "\n",
        "* (1 pts) Print names of the top-10 authors according to PageRank over DBLP when $d=0.85$. Comment on your findings."
      ]
    },
    {
      "cell_type": "code",
      "metadata": {
        "id": "L5ZnW7m-OGIz"
      },
      "source": [
        "from scipy.sparse import load_npz\n",
        "import numpy as np\n",
        "def load_dblp(path_auth, path_graph):\n",
        "    G = load_npz(path_graph).astype(float)\n",
        "    with np.load(path_auth) as data: authors = data['authors']\n",
        "    return G, authors\n",
        "G, authors = load_dblp('dblp_authors.npz', 'dblp_graph.npz')"
      ],
      "execution_count": null,
      "outputs": []
    },
    {
      "cell_type": "code",
      "metadata": {
        "id": "QynfixvjOGI1"
      },
      "source": [
        "# Your code is here"
      ],
      "execution_count": null,
      "outputs": []
    },
    {
      "cell_type": "markdown",
      "metadata": {
        "id": "hQ2vaIyMOGI3"
      },
      "source": [
        "## Problem 3. QR algorithm (33 pts)\n",
        "\n",
        "* Implement QR-algorithm without shifts. Prototype of the function is given below"
      ]
    },
    {
      "cell_type": "code",
      "metadata": {
        "id": "8XGmeeihF7F3"
      },
      "source": [
        "import numpy as np\n",
        "from scipy import linalg\n",
        "from scipy.spatial.distance import cdist\n",
        "import matplotlib.pyplot as plt"
      ],
      "execution_count": 31,
      "outputs": []
    },
    {
      "cell_type": "code",
      "metadata": {
        "id": "rMHBZLojOGI3"
      },
      "source": [
        "# INPUT: \n",
        "# A_init - square matrix, \n",
        "# num_iter - number of iterations for QR algorithm\n",
        "# OUTPUT: \n",
        "# Ak - transformed matrix A_init given by QR algorithm, \n",
        "# convergence - numpy array of shape (num_iter, ), \n",
        "# where we store the maximal number from the Chebyshev norm \n",
        "# of triangular part of the Ak for every iteration\n",
        "def qr_algorithm(A_init, num_iter): \n",
        "    Ak = A_init\n",
        "    convergence = np.zeros(num_iter)\n",
        "    \n",
        "    for i in range(num_iter):\n",
        "        A_old = Ak\n",
        "        Q, R = linalg.qr(Ak)\n",
        "        Ak = R @ Q\n",
        "        dist = cdist(np.tril(A_old, k=-1), np.tril(Ak, k=-1), 'chebyshev')\n",
        "        dist = np.max(dist)\n",
        "        convergence[i] = dist\n",
        "    \n",
        "    return Ak, convergence"
      ],
      "execution_count": 32,
      "outputs": []
    },
    {
      "cell_type": "markdown",
      "metadata": {
        "id": "UNrCBNRUOGI6"
      },
      "source": [
        "#### Symmetric case (3 pts)\n",
        "- Create symmetric tridiagonal $11 \\times 11$ matrix with elements $-1, 2, -1$ on sub-, main- and upper diagonal respectively without using loops.\n",
        "- Run $400$ iterations of the QR algorithm for this matrix.\n",
        "- Plot the output matrix with function ```plt.spy(Ak, precision=1e-7)```.\n",
        "- Plot convergence of QR-algorithm."
      ]
    },
    {
      "cell_type": "code",
      "metadata": {
        "colab": {
          "base_uri": "https://localhost:8080/",
          "height": 279
        },
        "id": "Gf7Ktd_qGU__",
        "outputId": "a3c37216-978d-44e0-c417-928f2f8d2ea7"
      },
      "source": [
        "from scipy.sparse import diags\n",
        "n = 11\n",
        "A_init = diags([-1, -2, -1], [-1, 0, 1], shape=(n, n)).toarray()\n",
        "\n",
        "plt.spy(A_init, precision=1e-7)\n",
        "plt.title('A_init')\n",
        "plt.show()"
      ],
      "execution_count": 33,
      "outputs": [
        {
          "output_type": "display_data",
          "data": {
            "image/png": "[encoded data removed]",
            "text/plain": [
              "<Figure size 432x288 with 1 Axes>"
            ]
          },
          "metadata": {
            "needs_background": "light"
          }
        }
      ]
    },
    {
      "cell_type": "code",
      "metadata": {
        "colab": {
          "base_uri": "https://localhost:8080/",
          "height": 543
        },
        "id": "_maP0QezGd6r",
        "outputId": "468c260b-5add-4aec-fe79-8c338e2d5698"
      },
      "source": [
        "Ak, convergence = qr_algorithm(A_init, 400)\n",
        "plt.spy(Ak, precision=1e-7)\n",
        "plt.title('Ak')\n",
        "plt.show()\n",
        "plt.plot(convergence)\n",
        "plt.title('Convergence of QR-algorithm')\n",
        "plt.show()"
      ],
      "execution_count": 34,
      "outputs": [
        {
          "output_type": "display_data",
          "data": {
            "image/png": "[encoded data removed]",
            "text/plain": [
              "<Figure size 432x288 with 1 Axes>"
            ]
          },
          "metadata": {
            "needs_background": "light"
          }
        },
        {
          "output_type": "display_data",
          "data": {
            "image/png": "[encoded data removed]",
            "text/plain": [
              "<Figure size 432x288 with 1 Axes>"
            ]
          },
          "metadata": {
            "needs_background": "light"
          }
        }
      ]
    },
    {
      "cell_type": "markdown",
      "metadata": {
        "id": "KFREKmVP1jvp"
      },
      "source": [
        ""
      ]
    },
    {
      "cell_type": "markdown",
      "metadata": {
        "id": "-lomV2K-OGI8"
      },
      "source": [
        "#### Nonsymmetric case (5 pts)\n",
        "\n",
        "- Create nonsymmetric tridiagonal $11 \\times 11$ matrix with elements $5, 3, -2$ on sub-, main- and upper diagonal respectively without using loops.\n",
        "- Run $250$ iterations of the QR algorithm for this matrix.\n",
        "- Plot the result matrix with function ```plt.spy(Ak, precision=1e-7)```. Is this matrix lower triangular? How does this correspond to the claim about convergence of the QR algorithm?"
      ]
    },
    {
      "cell_type": "code",
      "metadata": {
        "id": "C2lGBHjaOGI9",
        "colab": {
          "base_uri": "https://localhost:8080/",
          "height": 279
        },
        "outputId": "34633e17-4eb4-4eb5-8818-2c5f91141307"
      },
      "source": [
        "# Your solution is here\n",
        "A_init = diags([5, 3, -2], [-1, 0, 1], shape=(11, 11)).toarray()\n",
        "plt.spy(A_init, precision=1e-7)\n",
        "plt.title('A_init')\n",
        "plt.show()\n"
      ],
      "execution_count": 35,
      "outputs": [
        {
          "output_type": "display_data",
          "data": {
            "image/png": "[encoded data removed]",
            "text/plain": [
              "<Figure size 432x288 with 1 Axes>"
            ]
          },
          "metadata": {
            "needs_background": "light"
          }
        }
      ]
    },
    {
      "cell_type": "code",
      "metadata": {
        "colab": {
          "base_uri": "https://localhost:8080/",
          "height": 279
        },
        "id": "kYuMmjo7G0zz",
        "outputId": "5b4dd4ac-363d-4a7e-a9bc-959781dea3a7"
      },
      "source": [
        "Ak, convergence = qr_algorithm(A_init, 250)\n",
        "plt.spy(Ak, precision=1e-7)\n",
        "plt.title('Ak')\n",
        "plt.show()\n"
      ],
      "execution_count": 36,
      "outputs": [
        {
          "output_type": "display_data",
          "data": {
            "image/png": "[encoded data removed]",
            "text/plain": [
              "<Figure size 432x288 with 1 Axes>"
            ]
          },
          "metadata": {
            "needs_background": "light"
          }
        }
      ]
    },
    {
      "cell_type": "code",
      "metadata": {
        "colab": {
          "base_uri": "https://localhost:8080/",
          "height": 281
        },
        "id": "vkKpYv5JG9KA",
        "outputId": "222ae1db-faa1-4c59-d9d3-b2925422587b"
      },
      "source": [
        "plt.plot(convergence)\n",
        "plt.title('Convergence of QR-algorithm')\n",
        "plt.show()"
      ],
      "execution_count": 37,
      "outputs": [
        {
          "output_type": "display_data",
          "data": {
            "image/png": "[encoded data removed]",
            "text/plain": [
              "<Figure size 432x288 with 1 Axes>"
            ]
          },
          "metadata": {
            "needs_background": "light"
          }
        }
      ]
    },
    {
      "cell_type": "markdown",
      "metadata": {
        "id": "RQVz3ynqvuUz"
      },
      "source": [
        "### QR algorithms with Rayleigh Quotient shift (10 pts)\n",
        "\n",
        "In the lectures the Rayleigh Quotient shift was introduced to speed up convergence of power method. Here we ask you to generalize this approach to construct the shifts in QR algorithm.\n",
        "\n",
        "- How to compute the Rayleigh Quotient shift in QR algorithm fast? Provide formulas and explanations how they can be simplified.\n",
        "- Implement explicit QR algorithm with Rayleigh Quotient shift. Please do not worry about implicit orthogonalization, we want to compare convergence only in terms of iterations.\n",
        "- Test your implementation in the symmetric case. Plot the convergence of QR algorithm with and without shift. Choose the dimension $n \\sim 100 $ for more representative results. \n",
        "- How the convergence of the shifted algorithm compares to the simple QR? Why? "
      ]
    },
    {
      "cell_type": "code",
      "metadata": {
        "id": "a6rk9FwpvuUz"
      },
      "source": [
        "def qr_algorithm_reileigh(A_init, num_iter):\n",
        "    # enter your code here\n",
        "    n = A_init.shape[0]\n",
        "    convergence = list()\n",
        "    Ak = A_init\n",
        "    \n",
        "    x0 = np.random.uniform(0, 1, n)\n",
        "    lambda_k = 0.1\n",
        "    \n",
        "    indexes = list()\n",
        "    for i in range(n):\n",
        "        for j in range(n):\n",
        "            if i > j:\n",
        "                indexes.append([i, j])    \n",
        "    for k in range(num_iter):\n",
        "        lambda_k = np.dot(A @ x0, x0) / np.dot(x0, x0)\n",
        "        x0 = np.linalg.inv(Ak - lambda_k * np.eye(n)) @ x0\n",
        "        \n",
        "        q, rmat = np.linalg.qr(Ak - lambda_k * np.eye(n))\n",
        "        Ak = rmat @ q + lambda_k * np.eye(n)\n",
        "        \n",
        "        convergence.append(np.max(np.abs(Ak[indexes])))\n",
        "    return Ak, convergence"
      ],
      "execution_count": 53,
      "outputs": []
    },
    {
      "cell_type": "code",
      "metadata": {
        "id": "GzmD5xJMJT5D"
      },
      "source": [
        "A = np.zeros([150, 150])\n",
        "main = np.arange(150), np.arange(150)\n",
        "lower = np.arange(149) + 1, np.arange(149)\n",
        "upper = np.arange(149), np.arange(149) + 1\n",
        "A[main] = 2\n",
        "A[lower] = -1\n",
        "A[upper] = -1"
      ],
      "execution_count": 54,
      "outputs": []
    },
    {
      "cell_type": "code",
      "metadata": {
        "colab": {
          "base_uri": "https://localhost:8080/",
          "height": 286
        },
        "id": "hst6_jr7JbEj",
        "outputId": "3971791e-b076-43ad-cd0c-a4f4eb1e5bf1"
      },
      "source": [
        "Ak, convergence_reileigh = qr_algorithm_reileigh(A, 150)\n",
        "plt.spy(Ak, precision=1e-9)"
      ],
      "execution_count": 55,
      "outputs": [
        {
          "output_type": "execute_result",
          "data": {
            "text/plain": [
              "<matplotlib.image.AxesImage at 0x7f3d9c101f50>"
            ]
          },
          "metadata": {},
          "execution_count": 55
        },
        {
          "output_type": "display_data",
          "data": {
            "image/png": "[encoded data removed]",
            "text/plain": [
              "<Figure size 432x288 with 1 Axes>"
            ]
          },
          "metadata": {
            "needs_background": "light"
          }
        }
      ]
    },
    {
      "cell_type": "code",
      "metadata": {
        "colab": {
          "base_uri": "https://localhost:8080/",
          "height": 286
        },
        "id": "KWxzV-OcJh3m",
        "outputId": "ffd9f41f-e62b-4d88-d737-c127a391cef1"
      },
      "source": [
        "Ak, convergence = qr_algorithm(A, 150)\n",
        "plt.spy(Ak, precision=1e-9)"
      ],
      "execution_count": 56,
      "outputs": [
        {
          "output_type": "execute_result",
          "data": {
            "text/plain": [
              "<matplotlib.image.AxesImage at 0x7f3d93444950>"
            ]
          },
          "metadata": {},
          "execution_count": 56
        },
        {
          "output_type": "display_data",
          "data": {
            "image/png": "[encoded data removed]",
            "text/plain": [
              "<Figure size 432x288 with 1 Axes>"
            ]
          },
          "metadata": {
            "needs_background": "light"
          }
        }
      ]
    },
    {
      "cell_type": "code",
      "metadata": {
        "colab": {
          "base_uri": "https://localhost:8080/",
          "height": 637
        },
        "id": "p7sQkEdvJ7GH",
        "outputId": "92f26350-06c8-421f-aff3-2345a4978c31"
      },
      "source": [
        "\n",
        "plt.figure(figsize=(10, 10))\n",
        "plt.plot(np.arange(150), convergence_reileigh, label=\"Reileigh\")\n",
        "plt.plot(np.arange(150), convergence, label=\"Pure\")\n",
        "plt.xlabel('number of iteration', fontsize=24)\n",
        "plt.ylabel('chebyshev norm', fontsize=24)\n",
        "plt.legend()"
      ],
      "execution_count": 58,
      "outputs": [
        {
          "output_type": "execute_result",
          "data": {
            "text/plain": [
              "<matplotlib.legend.Legend at 0x7f3d9c1d4d10>"
            ]
          },
          "metadata": {},
          "execution_count": 58
        },
        {
          "output_type": "display_data",
          "data": {
            "image/png": "[encoded data removed]",
            "text/plain": [
              "<Figure size 720x720 with 1 Axes>"
            ]
          },
          "metadata": {
            "needs_background": "light"
          }
        }
      ]
    },
    {
      "cell_type": "markdown",
      "metadata": {
        "id": "gqfi5-_SvuUz"
      },
      "source": [
        "- Try QR with Rayleigh Quotient shift for a simple matrix $A = \\begin{bmatrix}\n",
        "0 & 1 \\\\\n",
        "1 & 0\n",
        "\\end{bmatrix}$. Does anything change from iteration to iteration? Does shift affect convergence here? Why?"
      ]
    },
    {
      "cell_type": "code",
      "metadata": {
        "id": "XjREdP3LvuU0"
      },
      "source": [
        "# Your solution is here"
      ],
      "execution_count": null,
      "outputs": []
    },
    {
      "cell_type": "markdown",
      "metadata": {
        "id": "FyJv2cafvuU0"
      },
      "source": [
        "### QR with Wilkinson shift  (15 pts)\n",
        "\n",
        "To solve the problem that appears in the last example, we can use the Wilkinson shift:\n",
        "\n",
        "$$\\mu = a_m - \\frac {sign(\\delta) b^2_{m-1}} {(|\\delta| + \\sqrt{\\delta^2 + b^2_{m-1}} )},$$\n",
        "\n",
        "where $\\delta = \\frac{(a_{m-1} - a_m)}{2}$. If $\\delta = 0$, then instead of $sign(\\delta)$ you have to choose $1$ or $-1$ arbitrary.\n",
        "The numbers $a_m, b_{m-1}, a_{m-1}$ are taken from matrix $B$:\n",
        "\n",
        "$$\n",
        "    B = \n",
        "    \\begin{bmatrix} \n",
        "     a_{m-1} & b_{m-1} \\\\ \n",
        "     b_{m-1} & a_m \\\\ \n",
        "    \\end{bmatrix},\n",
        "$$  \n",
        "which is a lower right bottom submatrix of $A^{(k)}$. Here $k$ is an iteration counter in QR algorithm.\n",
        "\n",
        "- Compare convergence in the symmetric cases: \n",
        "    - distinctive eigenvalues\n",
        "    - two coincident eigenvalues\n",
        "    - maximum and minimum eigenvalues with the same absolute value\n",
        "Choose the dimension $n \\sim 100 $ for more representative results.\n",
        "What do you observe? "
      ]
    },
    {
      "cell_type": "code",
      "metadata": {
        "id": "i5XlctHHvuU0"
      },
      "source": [
        "def qr_algorithm_wilkinson(A_init, num_iter):\n",
        "    n = A_init.shape[0]\n",
        "    convergence = list()\n",
        "    Ak = A_init\n",
        "    indexes = list()\n",
        "    for i in range(n):\n",
        "        for j in range(n):\n",
        "            if i < j:\n",
        "                indexes.append([i, j])\n",
        "\n",
        "    for k in range(num_iter):\n",
        "        a_m_1 = Ak[n - 2, n - 2]\n",
        "        a_m = Ak[n - 1, n - 1]\n",
        "        b_m_1 = Ak[n - 1, n - 2]\n",
        "        delta = (a_m_1 - a_m) / 2\n",
        "        sign = 1\n",
        "        if delta != 0:\n",
        "            sign = np.sign(delta)\n",
        "        mu = a_m - sign * b_m_1 * b_m_1 / (np.abs(delta) + np.sqrt(delta * delta + b_m_1 * b_m_1))\n",
        "        \n",
        "        q, rmat = np.linalg.qr(Ak - mu * np.eye(n))\n",
        "        Ak = rmat @ q + mu * np.eye(n)\n",
        "        \n",
        "        convergence.append(np.max(np.abs(Ak[indexes])))\n",
        "    return Ak, convergence"
      ],
      "execution_count": 59,
      "outputs": []
    },
    {
      "cell_type": "code",
      "metadata": {
        "id": "w9QQaQtLvuU0"
      },
      "source": [
        "A = np.zeros([150, 150])\n",
        "main = np.arange(150), np.arange(150)\n",
        "lower = np.arange(149) + 1, np.arange(149)\n",
        "upper = np.arange(149), np.arange(149) + 1\n",
        "A[main] = 2\n",
        "A[lower] = -1\n",
        "A[upper] = -1"
      ],
      "execution_count": 60,
      "outputs": []
    },
    {
      "cell_type": "code",
      "metadata": {
        "colab": {
          "base_uri": "https://localhost:8080/",
          "height": 286
        },
        "id": "VyAh5pvmMjXk",
        "outputId": "c0b55707-6abf-46d4-e04c-8cc5560559c6"
      },
      "source": [
        "Ak, convergence_wilk = qr_algorithm_wilkinson(A, 2000)\n",
        "plt.spy(Ak, precision=1e-9)"
      ],
      "execution_count": 63,
      "outputs": [
        {
          "output_type": "execute_result",
          "data": {
            "text/plain": [
              "<matplotlib.image.AxesImage at 0x7f3d93226490>"
            ]
          },
          "metadata": {},
          "execution_count": 63
        },
        {
          "output_type": "display_data",
          "data": {
            "image/png": "[encoded data removed]",
            "text/plain": [
              "<Figure size 432x288 with 1 Axes>"
            ]
          },
          "metadata": {
            "needs_background": "light"
          }
        }
      ]
    },
    {
      "cell_type": "code",
      "metadata": {
        "colab": {
          "base_uri": "https://localhost:8080/",
          "height": 310
        },
        "id": "K8cTVkZiMtfW",
        "outputId": "89f77c23-4b06-41f8-fdb3-fd29f052af50"
      },
      "source": [
        "Ak, convergence = qr_algorithm(A, 2000)\n",
        "plt.plot(np.arange(2000), convergence_wilk, label=\"Wilkinson\")\n",
        "plt.plot(np.arange(2000), convergence, label=\"Pure\")\n",
        "plt.xlabel('#iteration', fontsize=24)\n",
        "plt.ylabel('Chebyshev Norm', fontsize=24)\n",
        "plt.legend()"
      ],
      "execution_count": 64,
      "outputs": [
        {
          "output_type": "execute_result",
          "data": {
            "text/plain": [
              "<matplotlib.legend.Legend at 0x7f3d932c0290>"
            ]
          },
          "metadata": {},
          "execution_count": 64
        },
        {
          "output_type": "display_data",
          "data": {
            "image/png": "[encoded data removed]",
            "text/plain": [
              "<Figure size 432x288 with 1 Axes>"
            ]
          },
          "metadata": {
            "needs_background": "light"
          }
        }
      ]
    },
    {
      "cell_type": "markdown",
      "metadata": {
        "id": "c_8OYe7wOGI-"
      },
      "source": [
        "## Problem 4. (Movie Recommender system) 15 pts\n",
        "\n",
        "Imagine the world without NLA where you have free evenings and you can watch movies!  \n",
        "But it is always hard to choose a movie to watch. \n",
        "In this problem we suggest you to build your own movie recommender system based on SVD decomposition, so you can combine two perfect things: Numerical Linear Algebra and cinematography!"
      ]
    },
    {
      "cell_type": "markdown",
      "metadata": {
        "id": "W2duSA-Su7CI"
      },
      "source": [
        "In order to build recommender system you need data. \n",
        "Here you are https://grouplens.org/datasets/movielens/1m/\n",
        "\n",
        "Usually all recommender systems may be devided into two groups\n",
        "\n",
        "#### Collaborative filtering. \n",
        "\n",
        "This approach is based on user-item interaction.\n",
        "It has one important assumption: user who has liked an item in the past will also likes the same in the future. Suppose the user A likes the films about vampires. \n",
        "He is Twilight saga fan and he has watched the film \"What we do in the shadows\" and liked it or unliked it, in other words he evaluated it somehow. And suppose another user B, who has the similair behavior to the first user (he is also Twilight saga fan). And the chance, that he will estimate \"What we do in the shadows\" in the same way that user A did, is huge. So, the purpose of the collaborative filtering is to predict a user's behavior based on behavior of the simular users.\n",
        "\n",
        "#### Content based filtering.\n",
        "\n",
        "Collaborative filtering has some essential flaws. The main one is called \"cold start\". \"Cold start\" happens when the new user comes and he has not react anyhow to the items. So we do not know his past behavior and we do not know what to advise. Here content based filtering helps. Often resources gather some extra info about users and items before a user comes down to utilising the resource. So, for example we would know that user likes horror movies before he watched anything on the resource."
      ]
    },
    {
      "cell_type": "markdown",
      "metadata": {
        "id": "mMvQV1zSu7Cg"
      },
      "source": [
        "\n",
        "- In this task you will implement Collaborative filtering based on SVD (we will use the function from the proper package and check if the result recommender system advices the similar movies)"
      ]
    },
    {
      "cell_type": "markdown",
      "metadata": {
        "id": "tMN7EK6gu7Ch"
      },
      "source": [
        "1) (1 pts)  Explore the data. Construct the interaction matrix $M$ of size $m \\times n$ which contains the information of how a certain user rated a certain film. \n",
        "\n",
        "2) (5 pts)  Compute SVD of this matrix. Remeber that matrix $M$ is sparse (one user can hardly watch all the movies) so the good choice would be to use method from ```scipy.sparse.linalg``` package\n",
        "\n",
        "$$ M = USV^{\\top}, $$\n",
        "\n",
        "where $U$ is a $m \\times r $ orthogonal matrix with left singular vectors, which represents the relationship between users and latent factors, $S$ is a $r \\times r $ diagonal matrix, which describes the strength of each latent factor and $V^\\top$ is a $r \\times n$ matrix with right singular vectors, which represent the embeddings of  items (movies in our case) in latent space.\n",
        "Describe any simple heuristic to choose appropriate value for $r$ and explain why do you expect that it will work.\n"
      ]
    },
    {
      "cell_type": "code",
      "metadata": {
        "id": "qxYtnm7au7Ci",
        "colab": {
          "base_uri": "https://localhost:8080/",
          "height": 261
        },
        "outputId": "f5933b62-eb44-4574-a479-fe886676b6f1"
      },
      "source": [
        "# Importing Libraries\n",
        "import numpy as np\n",
        "import pandas as pd\n",
        "\n",
        "df = pd.read_csv('ratings.dat', \n",
        "                 sep=\"::\", \n",
        "                 skiprows=0,\n",
        "                 names=['user_id','movie_id', 'rating', 'timestamp'])\n",
        "\n",
        "df.head()\n"
      ],
      "execution_count": 67,
      "outputs": [
        {
          "output_type": "stream",
          "name": "stderr",
          "text": [
            "/usr/local/lib/python3.7/dist-packages/ipykernel_launcher.py:8: ParserWarning: Falling back to the 'python' engine because the 'c' engine does not support regex separators (separators > 1 char and different from '\\s+' are interpreted as regex); you can avoid this warning by specifying engine='python'.\n",
            "  \n"
          ]
        },
        {
          "output_type": "execute_result",
          "data": {
            "text/html": [
              "<div>\n",
              "<style scoped>\n",
              "    .dataframe tbody tr th:only-of-type {\n",
              "        vertical-align: middle;\n",
              "    }\n",
              "\n",
              "    .dataframe tbody tr th {\n",
              "        vertical-align: top;\n",
              "    }\n",
              "\n",
              "    .dataframe thead th {\n",
              "        text-align: right;\n",
              "    }\n",
              "</style>\n",
              "<table border=\"1\" class=\"dataframe\">\n",
              "  <thead>\n",
              "    <tr style=\"text-align: right;\">\n",
              "      <th></th>\n",
              "      <th>user_id</th>\n",
              "      <th>movie_id</th>\n",
              "      <th>rating</th>\n",
              "      <th>timestamp</th>\n",
              "    </tr>\n",
              "  </thead>\n",
              "  <tbody>\n",
              "    <tr>\n",
              "      <th>0</th>\n",
              "      <td>1</td>\n",
              "      <td>1193</td>\n",
              "      <td>5</td>\n",
              "      <td>978300760</td>\n",
              "    </tr>\n",
              "    <tr>\n",
              "      <th>1</th>\n",
              "      <td>1</td>\n",
              "      <td>661</td>\n",
              "      <td>3</td>\n",
              "      <td>978302109</td>\n",
              "    </tr>\n",
              "    <tr>\n",
              "      <th>2</th>\n",
              "      <td>1</td>\n",
              "      <td>914</td>\n",
              "      <td>3</td>\n",
              "      <td>978301968</td>\n",
              "    </tr>\n",
              "    <tr>\n",
              "      <th>3</th>\n",
              "      <td>1</td>\n",
              "      <td>3408</td>\n",
              "      <td>4</td>\n",
              "      <td>978300275</td>\n",
              "    </tr>\n",
              "    <tr>\n",
              "      <th>4</th>\n",
              "      <td>1</td>\n",
              "      <td>2355</td>\n",
              "      <td>5</td>\n",
              "      <td>978824291</td>\n",
              "    </tr>\n",
              "  </tbody>\n",
              "</table>\n",
              "</div>"
            ],
            "text/plain": [
              "   user_id  movie_id  rating  timestamp\n",
              "0        1      1193       5  978300760\n",
              "1        1       661       3  978302109\n",
              "2        1       914       3  978301968\n",
              "3        1      3408       4  978300275\n",
              "4        1      2355       5  978824291"
            ]
          },
          "metadata": {},
          "execution_count": 67
        }
      ]
    },
    {
      "cell_type": "code",
      "metadata": {
        "colab": {
          "base_uri": "https://localhost:8080/",
          "height": 261
        },
        "id": "Phrfk_o7QW2s",
        "outputId": "b4e3e140-04b5-4171-9a66-efcbd8d4abf6"
      },
      "source": [
        "movies = pd.read_csv('movies.dat',\n",
        "                 encoding='windows-1251',\n",
        "                 sep=\"::\", \n",
        "                 skiprows=0,\n",
        "                 names=['movie_id','title', 'genre'])\n",
        "movies.head()"
      ],
      "execution_count": 91,
      "outputs": [
        {
          "output_type": "stream",
          "name": "stderr",
          "text": [
            "/usr/local/lib/python3.7/dist-packages/ipykernel_launcher.py:5: ParserWarning: Falling back to the 'python' engine because the 'c' engine does not support regex separators (separators > 1 char and different from '\\s+' are interpreted as regex); you can avoid this warning by specifying engine='python'.\n",
            "  \"\"\"\n"
          ]
        },
        {
          "output_type": "execute_result",
          "data": {
            "text/html": [
              "<div>\n",
              "<style scoped>\n",
              "    .dataframe tbody tr th:only-of-type {\n",
              "        vertical-align: middle;\n",
              "    }\n",
              "\n",
              "    .dataframe tbody tr th {\n",
              "        vertical-align: top;\n",
              "    }\n",
              "\n",
              "    .dataframe thead th {\n",
              "        text-align: right;\n",
              "    }\n",
              "</style>\n",
              "<table border=\"1\" class=\"dataframe\">\n",
              "  <thead>\n",
              "    <tr style=\"text-align: right;\">\n",
              "      <th></th>\n",
              "      <th>movie_id</th>\n",
              "      <th>title</th>\n",
              "      <th>genre</th>\n",
              "    </tr>\n",
              "  </thead>\n",
              "  <tbody>\n",
              "    <tr>\n",
              "      <th>0</th>\n",
              "      <td>1</td>\n",
              "      <td>Toy Story (1995)</td>\n",
              "      <td>Animation|Children's|Comedy</td>\n",
              "    </tr>\n",
              "    <tr>\n",
              "      <th>1</th>\n",
              "      <td>2</td>\n",
              "      <td>Jumanji (1995)</td>\n",
              "      <td>Adventure|Children's|Fantasy</td>\n",
              "    </tr>\n",
              "    <tr>\n",
              "      <th>2</th>\n",
              "      <td>3</td>\n",
              "      <td>Grumpier Old Men (1995)</td>\n",
              "      <td>Comedy|Romance</td>\n",
              "    </tr>\n",
              "    <tr>\n",
              "      <th>3</th>\n",
              "      <td>4</td>\n",
              "      <td>Waiting to Exhale (1995)</td>\n",
              "      <td>Comedy|Drama</td>\n",
              "    </tr>\n",
              "    <tr>\n",
              "      <th>4</th>\n",
              "      <td>5</td>\n",
              "      <td>Father of the Bride Part II (1995)</td>\n",
              "      <td>Comedy</td>\n",
              "    </tr>\n",
              "  </tbody>\n",
              "</table>\n",
              "</div>"
            ],
            "text/plain": [
              "   movie_id                               title                         genre\n",
              "0         1                    Toy Story (1995)   Animation|Children's|Comedy\n",
              "1         2                      Jumanji (1995)  Adventure|Children's|Fantasy\n",
              "2         3             Grumpier Old Men (1995)                Comedy|Romance\n",
              "3         4            Waiting to Exhale (1995)                  Comedy|Drama\n",
              "4         5  Father of the Bride Part II (1995)                        Comedy"
            ]
          },
          "metadata": {},
          "execution_count": 91
        }
      ]
    },
    {
      "cell_type": "code",
      "metadata": {
        "id": "bF8UpplnQx2s"
      },
      "source": [
        "from scipy.sparse import csr_matrix\n",
        "from scipy.sparse.linalg import svds\n",
        "\n",
        "row = df.user_id - 1\n",
        "col = df.movie_id - 1\n",
        "data = df.rating\n",
        "\n",
        "m = max(row) + 1\n",
        "n = max(col) + 1\n",
        "\n",
        "M = csr_matrix((data, (row, col)), shape=(m, n))\n",
        "M = M.asfptype()"
      ],
      "execution_count": 92,
      "outputs": []
    },
    {
      "cell_type": "code",
      "metadata": {
        "id": "ZhGeVJTEQ0t5"
      },
      "source": [
        "u, s, vt = svds(M, k=500)"
      ],
      "execution_count": 94,
      "outputs": []
    },
    {
      "cell_type": "code",
      "metadata": {
        "id": "3zUd9OvBu7Cj"
      },
      "source": [
        ""
      ],
      "execution_count": 77,
      "outputs": []
    },
    {
      "cell_type": "code",
      "metadata": {
        "colab": {
          "base_uri": "https://localhost:8080/"
        },
        "id": "FYiS-b8mTVZ0",
        "outputId": "d56af99c-ce08-413e-ba96-6e1ad90e218b"
      },
      "source": [
        "u.shape"
      ],
      "execution_count": 95,
      "outputs": [
        {
          "output_type": "execute_result",
          "data": {
            "text/plain": [
              "(6040, 500)"
            ]
          },
          "metadata": {},
          "execution_count": 95
        }
      ]
    },
    {
      "cell_type": "code",
      "metadata": {
        "colab": {
          "base_uri": "https://localhost:8080/",
          "height": 282
        },
        "id": "ZUGYOGc2WI8U",
        "outputId": "bdec6979-b93e-44d3-a74a-2c1adbe92c59"
      },
      "source": [
        "plt.plot(np.arange(500), s)"
      ],
      "execution_count": 96,
      "outputs": [
        {
          "output_type": "execute_result",
          "data": {
            "text/plain": [
              "[<matplotlib.lines.Line2D at 0x7f3d820880d0>]"
            ]
          },
          "metadata": {},
          "execution_count": 96
        },
        {
          "output_type": "display_data",
          "data": {
            "image/png": "[encoded data removed]",
            "text/plain": [
              "<Figure size 432x288 with 1 Axes>"
            ]
          },
          "metadata": {
            "needs_background": "light"
          }
        }
      ]
    },
    {
      "cell_type": "markdown",
      "metadata": {
        "id": "DYAls78MWZhU"
      },
      "source": [
        "Making values of the diagonals 0 for a random selection of singular values = 100 to find a low rank approximation"
      ]
    },
    {
      "cell_type": "code",
      "metadata": {
        "colab": {
          "base_uri": "https://localhost:8080/"
        },
        "id": "Lj7qv6UDWQWV",
        "outputId": "0ea25b6f-f1e1-4c16-be4e-16c67281ba78"
      },
      "source": [
        "r = 0\n",
        "\n",
        "for i in range(s.shape[0] - 1, -1, -1):\n",
        "    if s[i] > 100:\n",
        "        r += i\n",
        "        break\n",
        "r"
      ],
      "execution_count": 111,
      "outputs": [
        {
          "output_type": "execute_result",
          "data": {
            "text/plain": [
              "208"
            ]
          },
          "metadata": {},
          "execution_count": 111
        }
      ]
    },
    {
      "cell_type": "code",
      "metadata": {
        "id": "H7gKM2WkUwDy"
      },
      "source": [
        "u, s, vt = svds(M, k=r) "
      ],
      "execution_count": 112,
      "outputs": []
    },
    {
      "cell_type": "markdown",
      "metadata": {
        "id": "SMXnKF5Tu7Cj"
      },
      "source": [
        "3) (2 pts) In order to get weighted item-latent factors, we can multiply $S$ and $V^{T}$. Please, remember that $S$ is diagonal and multiply them efficiently."
      ]
    },
    {
      "cell_type": "code",
      "metadata": {
        "id": "VEW4M5Ovu7Cj",
        "colab": {
          "base_uri": "https://localhost:8080/"
        },
        "outputId": "fa7d1509-eec0-456a-a524-cfc37ce4f28e"
      },
      "source": [
        "svt = np.multiply(vt.T, s).T\n",
        "svt.shape"
      ],
      "execution_count": 113,
      "outputs": [
        {
          "output_type": "execute_result",
          "data": {
            "text/plain": [
              "(208, 3952)"
            ]
          },
          "metadata": {},
          "execution_count": 113
        }
      ]
    },
    {
      "cell_type": "markdown",
      "metadata": {
        "id": "eEMDQkkqu7Ck"
      },
      "source": [
        "Now we have vectors that represent our item space. In other words we have $N$ movies and $N$ vectors which describe each movie, a.k.a. embeddings. \n",
        "In order to know if two movies are similar or not we need just to check if the corresponding vectors are similair or not. How we can do this?\n",
        "\n",
        "4) (2 pts)  Implement the cosine metric. If the cosine metric between two vectors equals to $1$ both vectors are collinear, if $0$ vectors are orthogonal, as a result corresponding movies are completely different.\n",
        "\n",
        "$$\n",
        "cosine(u,v) = \\frac{u^{\\top}v}{\\|u\\|_2\\|v\\|_2}\n",
        "$$"
      ]
    },
    {
      "cell_type": "code",
      "metadata": {
        "id": "lAR4dXMOOGI_"
      },
      "source": [
        "def cosine(u, v):\n",
        "    return u.T @ v / (np.linalg.norm(u, 2) * np.linalg.norm(v, 2))"
      ],
      "execution_count": 114,
      "outputs": []
    },
    {
      "cell_type": "markdown",
      "metadata": {
        "id": "6wRZh8ALu7C1"
      },
      "source": [
        "5) (5 pts) Check your result. Implement the fuction, which finds and prints $k$ similar movies to the one you have chosen"
      ]
    },
    {
      "cell_type": "code",
      "metadata": {
        "id": "26g7MzeWu7C1"
      },
      "source": [
        "\n",
        "def suggest(k, movie_id):\n",
        "    results = []\n",
        "    for i in range(svt.shape[1]):\n",
        "        res = cosine(svt[:, i], svt[:, movie_id])\n",
        "        results.append((res, i))\n",
        "    results.sort(key=lambda x: -x[0])\n",
        "    \n",
        "    suggestions = []\n",
        "    indexes = movies.movie_id\n",
        "    for i in range(1, k + 1):\n",
        "        suggestions.append(movies.title.loc[results[i][1]])\n",
        "    \n",
        "    return suggestions"
      ],
      "execution_count": 115,
      "outputs": []
    },
    {
      "cell_type": "code",
      "metadata": {
        "colab": {
          "base_uri": "https://localhost:8080/"
        },
        "id": "M1bG243_XZFd",
        "outputId": "d06f0f6e-642f-407e-d3d6-07348ac6538a"
      },
      "source": [
        "m = 100\n",
        "movies.title.loc[m]\n",
        "suggest(5, m)"
      ],
      "execution_count": 116,
      "outputs": [
        {
          "output_type": "execute_result",
          "data": {
            "text/plain": [
              "['NeverEnding Story III, The (1994)',\n",
              " \"National Lampoon's Senior Trip (1995)\",\n",
              " 'Private Parts (1997)',\n",
              " 'Lord of Illusions (1995)',\n",
              " 'Repulsion (1965)']"
            ]
          },
          "metadata": {},
          "execution_count": 116
        }
      ]
    },
    {
      "cell_type": "markdown",
      "metadata": {
        "id": "oPIQfKcmu7C2"
      },
      "source": [
        "Enjoy watching the recommended movies!\n"
      ]
    }
  ]
}